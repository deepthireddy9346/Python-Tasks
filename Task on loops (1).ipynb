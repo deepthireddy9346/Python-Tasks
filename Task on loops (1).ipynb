{
 "cells": [
  {
   "cell_type": "markdown",
   "id": "b7524d6c",
   "metadata": {},
   "source": [
    "# 1.To the Power of\n",
    "Create a function that takes a base number and an exponent number and returns the calculation.\n",
    "\n",
    "Examples\n",
    "\n",
    "calculate_exponent(5, 5) ➞ 3125\n",
    "\n",
    "calculate_exponent(10, 10) ➞ 10000000000\n",
    "\n",
    "calculate_exponent(3, 3) ➞ 27"
   ]
  },
  {
   "cell_type": "code",
   "execution_count": 1,
   "id": "2f42850c",
   "metadata": {},
   "outputs": [
    {
     "name": "stdout",
     "output_type": "stream",
     "text": [
      "10\n",
      "10\n",
      "10000000000\n"
     ]
    }
   ],
   "source": [
    "base, exp =int(input ()), int(input ())\n",
    "result = base\n",
    "i=1\n",
    "while i<exp:\n",
    "    result*=base\n",
    "    i+=1\n",
    "print(result)"
   ]
  },
  {
   "cell_type": "code",
   "execution_count": 13,
   "id": "74616eb9",
   "metadata": {},
   "outputs": [
    {
     "name": "stdout",
     "output_type": "stream",
     "text": [
      "10\n",
      "10\n",
      "10000000000\n"
     ]
    }
   ],
   "source": [
    "base, exp =int(input ()), int(input ())\n",
    "result = 1\n",
    "for _ in range(exp):\n",
    "    result *= base\n",
    "print(result)  "
   ]
  },
  {
   "cell_type": "markdown",
   "id": "16740aff",
   "metadata": {},
   "source": [
    "# 2. Find the Largest Number in a List\n",
    "\n",
    "Create a function that takes a list of numbers. Return the largest number in the list.\n",
    "\n",
    "Examples\n",
    "\n",
    "findLargestNum([4, 5, 1, 3]) ➞ 5\n",
    "\n",
    "findLargestNum([300, 200, 600, 150]) ➞ 600\n",
    "\n",
    "findLargestNum([1000, 1001, 857, 1]) ➞ 1001"
   ]
  },
  {
   "cell_type": "code",
   "execution_count": 2,
   "id": "f5750c59",
   "metadata": {},
   "outputs": [
    {
     "name": "stdout",
     "output_type": "stream",
     "text": [
      "Largest element is: 5\n"
     ]
    }
   ],
   "source": [
    "#1\n",
    "x = [4, 5, 1, 3]\n",
    "x.sort()\n",
    "print(\"Largest element is:\", x[-1])"
   ]
  },
  {
   "cell_type": "code",
   "execution_count": 28,
   "id": "2d9a5934",
   "metadata": {},
   "outputs": [
    {
     "name": "stdout",
     "output_type": "stream",
     "text": [
      "5\n"
     ]
    }
   ],
   "source": [
    "num=[4, 5, 1, 3]\n",
    "largest=0\n",
    "i=0\n",
    "while i <len(num):\n",
    "    if num[i]>largest:\n",
    "        largest=num[i]\n",
    "    i+=1\n",
    "print(largest)       "
   ]
  },
  {
   "cell_type": "code",
   "execution_count": 17,
   "id": "ffcc9004",
   "metadata": {},
   "outputs": [
    {
     "name": "stdout",
     "output_type": "stream",
     "text": [
      "5\n"
     ]
    }
   ],
   "source": [
    "num=[4, 5, 1, 3]\n",
    "largest=0\n",
    "for i in num:\n",
    "    if i>largest:\n",
    "        largest=i\n",
    "print(largest)        \n",
    "    "
   ]
  },
  {
   "cell_type": "markdown",
   "id": "ad7c43ed",
   "metadata": {},
   "source": [
    "# 3.Find the Smallest Number in a List\n",
    "Create a function that takes a list of numbers and returns the smallest number in the list.\n",
    "\n",
    "Examples\n",
    "\n",
    "find_smallest_num([34, 15, 88, 2]) ➞ 2\n",
    "\n",
    "find_smallest_num([34, -345, -1, 100]) ➞ -345\n",
    "\n",
    "find_smallest_num([-76, 1.345, 1, 0]) ➞ -76\n",
    "\n",
    "find_smallest_num([0.4356, 0.8795, 0.5435, -0.9999]) ➞ -0.9999\n",
    "\n",
    "find_smallest_num([7, 7, 7]) ➞ 7"
   ]
  },
  {
   "cell_type": "code",
   "execution_count": 17,
   "id": "0b379c21",
   "metadata": {},
   "outputs": [
    {
     "name": "stdout",
     "output_type": "stream",
     "text": [
      "enter the smallest :  2\n"
     ]
    }
   ],
   "source": [
    "#1\n",
    "x=[34, 15, 88, 2]\n",
    "x.sort()\n",
    "print('enter the smallest : ',x[0])"
   ]
  },
  {
   "cell_type": "code",
   "execution_count": 35,
   "id": "84820944",
   "metadata": {},
   "outputs": [
    {
     "name": "stdout",
     "output_type": "stream",
     "text": [
      "2\n"
     ]
    }
   ],
   "source": [
    "num=[34, 15, 88, 2]\n",
    "smallest=float('inf')\n",
    "i=0\n",
    "while i<len(num):\n",
    "    if num[i]<smallest:\n",
    "        smallest=num[i]\n",
    "    i+=1\n",
    "print(smallest)    \n",
    "    "
   ]
  },
  {
   "cell_type": "code",
   "execution_count": 22,
   "id": "68e60a5b",
   "metadata": {},
   "outputs": [
    {
     "name": "stdout",
     "output_type": "stream",
     "text": [
      "2\n"
     ]
    }
   ],
   "source": [
    "num=[34, 15, 88, 2]\n",
    "smallest=float('inf')\n",
    "for i in num:\n",
    "    if i<smallest:\n",
    "        smallest=i\n",
    "print(smallest)        "
   ]
  },
  {
   "cell_type": "markdown",
   "id": "453b6021",
   "metadata": {},
   "source": [
    "# 4.Difference of Max and Min Numbers in List\n",
    "Create a function that takes a list and returns the difference between the biggest and smallest numbers.\n",
    "\n",
    "Examples\n",
    "\n",
    "difference_max_min([10, 4, 1, 4, -10, -50, 32, 21]) ➞ 82\n",
    "\n",
    "#Smallest number is -50, biggest is 32.\n",
    "\n",
    "difference_max_min([44, 32, 86, 19]) ➞ 67\n",
    "\n",
    "#Smallest number is 19, biggest is 86."
   ]
  },
  {
   "cell_type": "code",
   "execution_count": 39,
   "id": "8dce1e9d",
   "metadata": {},
   "outputs": [
    {
     "name": "stdout",
     "output_type": "stream",
     "text": [
      "enter difference_max_min :  82\n"
     ]
    }
   ],
   "source": [
    "#1\n",
    "x=[10, 4, 1, 4, -10, -50, 32, 21]\n",
    "x.sort()\n",
    "print('enter difference_max_min : ',x[-1]-x[0])"
   ]
  },
  {
   "cell_type": "code",
   "execution_count": 44,
   "id": "03e414d9",
   "metadata": {},
   "outputs": [
    {
     "name": "stdout",
     "output_type": "stream",
     "text": [
      "difference_max_min [10, 4, 1, 4, -10, -50, 32, 21] :  -82\n"
     ]
    }
   ],
   "source": [
    "nums=[10, 4, 1, 4, -10, -50, 32, 21]\n",
    "largest=0\n",
    "smallest=0\n",
    "result=0\n",
    "i=0\n",
    "\n",
    "while i <len(nums):\n",
    "    if nums[i]<smallest:\n",
    "        smallest=nums[i]\n",
    "    if nums[i]>largest:\n",
    "        largest=nums[i]    \n",
    "    i+=1\n",
    "    result=smallest-largest\n",
    "print(f'difference_max_min {nums} : ', result)    "
   ]
  },
  {
   "cell_type": "code",
   "execution_count": 24,
   "id": "e7cb567b",
   "metadata": {},
   "outputs": [
    {
     "name": "stdout",
     "output_type": "stream",
     "text": [
      "difference_max_min [10, 4, 1, 4, -10, -50, 32, 21] :  -82\n"
     ]
    }
   ],
   "source": [
    "nums=[10, 4, 1, 4, -10, -50, 32, 21]\n",
    "largest=0\n",
    "smallest=0\n",
    "result=0\n",
    "for i in nums:\n",
    "    if i<smallest:\n",
    "        smallest=i\n",
    "    if i>largest:\n",
    "        largest=i\n",
    "    result=smallest-largest\n",
    "print(f'difference_max_min {nums} : ', result)       "
   ]
  },
  {
   "cell_type": "markdown",
   "id": "a6264437",
   "metadata": {},
   "source": [
    "# 5.Get the Sum of All List Elements\n",
    "Create a function that takes a list and returns the sum of all numbers in the list.\n",
    "\n",
    "Examples\n",
    "\n",
    "get_sum_of_elements([2, 7, 4]) ➞ 13\n",
    "\n",
    "get_sum_of_elements([45, 3, 0]) ➞ 48\n",
    "\n",
    "get_sum_of_elements([-2, 84, 23]) ➞ 105"
   ]
  },
  {
   "cell_type": "code",
   "execution_count": 42,
   "id": "e3d95ebc",
   "metadata": {},
   "outputs": [
    {
     "name": "stdout",
     "output_type": "stream",
     "text": [
      "get_sum_of_elements [2, 7, 4] : 13\n"
     ]
    }
   ],
   "source": [
    "num=[2, 7, 4]\n",
    "total_sum=0\n",
    "i=0\n",
    "while i<len(num):\n",
    "    total_sum += num[i]\n",
    "    i+= 1\n",
    "print(f'get_sum_of_elements {num} :', total_sum)"
   ]
  },
  {
   "cell_type": "code",
   "execution_count": 25,
   "id": "149b45e5",
   "metadata": {},
   "outputs": [
    {
     "name": "stdout",
     "output_type": "stream",
     "text": [
      "get_sum_of_elements [2, 7, 4] : 13\n"
     ]
    }
   ],
   "source": [
    "num=[2, 7, 4]\n",
    "total_sum=0\n",
    "for i in num:\n",
    "    total_sum+=i\n",
    "print(f'get_sum_of_elements {num} :', total_sum)    "
   ]
  },
  {
   "cell_type": "markdown",
   "id": "64536eca",
   "metadata": {},
   "source": [
    "# 6.Convert Number to String of Dashes\n",
    "Create a function that takes a number (from 1 - 60) and returns a corresponding string of hyphens.\n",
    "\n",
    "Examples\n",
    "\n",
    "num_to_dashes(1) ➞ \"-\"\n",
    "\n",
    "num_to_dashes(5) ➞ \"-----\"\n",
    "\n",
    "num_to_dashes(3) ➞ \"---\""
   ]
  },
  {
   "cell_type": "code",
   "execution_count": 51,
   "id": "76eac536",
   "metadata": {},
   "outputs": [
    {
     "name": "stdout",
     "output_type": "stream",
     "text": [
      "Enter the num : 3\n",
      "---\n"
     ]
    }
   ],
   "source": [
    "number=int(input('Enter the num : '))\n",
    "result=0    \n",
    "if 1<=number<=60:\n",
    "    dashes='-'*number\n",
    "    result= dashes\n",
    "else:\n",
    "    result ='out of range'\n",
    "print(result)    \n",
    "\n",
    "    \n",
    "    "
   ]
  },
  {
   "cell_type": "code",
   "execution_count": 31,
   "id": "e6cd448c",
   "metadata": {},
   "outputs": [
    {
     "name": "stdout",
     "output_type": "stream",
     "text": [
      "Enter the num : 3\n",
      "---\n"
     ]
    }
   ],
   "source": [
    "number=int(input('Enter the num : '))\n",
    "result='' \n",
    "for _ in range(number):\n",
    "    dashes='-'*number\n",
    "    result= dashes\n",
    "print(result)    \n",
    "    "
   ]
  },
  {
   "cell_type": "markdown",
   "id": "a9bdccff",
   "metadata": {},
   "source": [
    "# 7.Edaaaaabit\n",
    "Write a function that takes an integer and returns a string with the given number of \"a\"s in Edabit.\n",
    "\n",
    "Examples\n",
    "\n",
    "how_many_times(5) ➞ \"Edaaaaabit\"\n",
    "\n",
    "how_many_times(0) ➞ \"Edbit\"\n",
    "\n",
    "how_many_times(12) ➞ \"Edaaaaaaaaaaaabit\""
   ]
  },
  {
   "cell_type": "code",
   "execution_count": 50,
   "id": "7d7508f8",
   "metadata": {
    "scrolled": true
   },
   "outputs": [
    {
     "name": "stdout",
     "output_type": "stream",
     "text": [
      "Enter the num : 5\n",
      "Eaaaaabit\n"
     ]
    }
   ],
   "source": [
    "num=int(input('Enter the num : '))\n",
    "result=0\n",
    "if num>= 0:\n",
    "    result = \"E\" + \"a\" * num + \"bit\"\n",
    "else:\n",
    "    result= 0\n",
    "print(result)\n"
   ]
  },
  {
   "cell_type": "code",
   "execution_count": 42,
   "id": "0cf61922",
   "metadata": {},
   "outputs": [
    {
     "name": "stdout",
     "output_type": "stream",
     "text": [
      "Enter the num : 5\n",
      "Eaaaaabit\n"
     ]
    }
   ],
   "source": [
    "num = int(input('Enter the num : '))\n",
    "result = ''\n",
    "\n",
    "while num >= 1:\n",
    "    result = \"a\" + result\n",
    "    num -= 1\n",
    "\n",
    "result = \"E\" + result + \"bit\"\n",
    "print(result)\n"
   ]
  },
  {
   "cell_type": "markdown",
   "id": "c097a02c",
   "metadata": {},
   "source": [
    "# 8.Check if All Values Are True\n",
    "Create a function that returns True if all parameters are truthy, and False otherwise.\n",
    "\n",
    "Examples\n",
    "\n",
    "all_truthy(True, True, True) ➞ True\n",
    "\n",
    "all_truthy(True, False, True) ➞ False\n",
    "\n",
    "all_truthy(5, 4, 3, 2, 1, 0) ➞ False"
   ]
  },
  {
   "cell_type": "code",
   "execution_count": 45,
   "id": "3dd72c90",
   "metadata": {},
   "outputs": [
    {
     "name": "stdout",
     "output_type": "stream",
     "text": [
      "True\n"
     ]
    }
   ],
   "source": [
    "a=[True, True, True] \n",
    "result=True\n",
    "i=0\n",
    "while i<len(a):\n",
    "    if not a[i]:\n",
    "        result = False\n",
    "        break\n",
    "    i+=1\n",
    "print(result)    \n",
    "    "
   ]
  },
  {
   "cell_type": "code",
   "execution_count": 46,
   "id": "b86b10cd",
   "metadata": {},
   "outputs": [
    {
     "name": "stdout",
     "output_type": "stream",
     "text": [
      "True\n"
     ]
    }
   ],
   "source": [
    "a=[True, False, True] \n",
    "result=True\n",
    "for i in a:\n",
    "    if not i:\n",
    "        result=False\n",
    "        break\n",
    "print(result)        "
   ]
  },
  {
   "cell_type": "markdown",
   "id": "ceeaf138",
   "metadata": {},
   "source": [
    "# 9.Buggy Code (Part 5)\n",
    "Mubashir created an infinite loop! Help him by fixing the code in the code tab to pass this challenge. Look at the examples below to get an idea of what the function should do.\n",
    "\n",
    "Examples\n",
    "\n",
    "print_list(1) ➞ [1]\n",
    "\n",
    "print_list(3) ➞ [1, 2, 3]\n",
    "\n",
    "print_list(6) ➞ [1, 2, 3, 4, 5, 6]"
   ]
  },
  {
   "cell_type": "code",
   "execution_count": 21,
   "id": "e0057ce6",
   "metadata": {},
   "outputs": [
    {
     "name": "stdout",
     "output_type": "stream",
     "text": [
      "Enter a number :6\n",
      "[1, 2, 3, 4, 5, 6]\n"
     ]
    }
   ],
   "source": [
    "x=int(input('Enter a number :'))\n",
    "y=[]\n",
    "i=1\n",
    "while i<=x:\n",
    "    y.append(i)\n",
    "    i+=1\n",
    "print(y)    \n",
    "    \n",
    "    \n"
   ]
  },
  {
   "cell_type": "code",
   "execution_count": 60,
   "id": "150185dd",
   "metadata": {},
   "outputs": [
    {
     "name": "stdout",
     "output_type": "stream",
     "text": [
      "Enter a number :3\n",
      "[1, 2, 3]\n"
     ]
    }
   ],
   "source": [
    "x=int(input('Enter a number :'))\n",
    "y=[]\n",
    "for z in range(1,x+1):\n",
    "    y.append(z)\n",
    "print(y)  \n",
    "    "
   ]
  },
  {
   "cell_type": "markdown",
   "id": "c650170b",
   "metadata": {},
   "source": [
    "# 10.Return Last Item\n",
    "Create a function that returns the last value of the last item in a list or string.\n",
    "\n",
    "Examples\n",
    "\n",
    "last_ind([0, 4, 19, 34, 50, -9, 2]) ➞ 2\n",
    "\n",
    "last_ind(\"The quick brown fox jumped over the lazy dog\") ➞ \"g\"\n",
    "\n",
    "last_ind([]) ➞ None"
   ]
  },
  {
   "cell_type": "code",
   "execution_count": 32,
   "id": "9119ef0b",
   "metadata": {},
   "outputs": [
    {
     "name": "stdout",
     "output_type": "stream",
     "text": [
      "g\n"
     ]
    }
   ],
   "source": [
    "x=(\"The quick brown fox jumped over the lazy dog\")\n",
    "y=x.split()\n",
    "len(y)\n",
    "z=y[-1]\n",
    "zz=z[-1]\n",
    "print(zz)\n"
   ]
  },
  {
   "cell_type": "code",
   "execution_count": 91,
   "id": "b095f141",
   "metadata": {},
   "outputs": [
    {
     "name": "stdout",
     "output_type": "stream",
     "text": [
      "2\n"
     ]
    }
   ],
   "source": [
    "l=[0, 4, 19, 34, 50, -9, 2]\n",
    "\n",
    "for num in l:\n",
    "    last_value=l[-1]\n",
    "print(last_value)    \n",
    "\n"
   ]
  },
  {
   "cell_type": "code",
   "execution_count": 111,
   "id": "d5ff9fb1",
   "metadata": {},
   "outputs": [
    {
     "name": "stdout",
     "output_type": "stream",
     "text": [
      "g\n"
     ]
    }
   ],
   "source": [
    "s=(\"The quick brown fox jumped over the lazy dog\")\n",
    "for char in s:\n",
    "    last_char=char\n",
    "print(last_char)    "
   ]
  },
  {
   "cell_type": "markdown",
   "id": "621f70d8",
   "metadata": {},
   "source": [
    "#  11.Destructuring Assignment (Ignoring Values)\n",
    "You can assign variables from lists like this:\n",
    "\n",
    "first, _ , last = [1, 2, 8]\n",
    "\n",
    "first   = lst[0]\n",
    "\n",
    "_   = ignores second value (2)\n",
    "\n",
    "last   = lst[-1]\n",
    "\n",
    "print(first) ➞ outputs 1\n",
    "print(last) ➞ outputs 8"
   ]
  },
  {
   "cell_type": "code",
   "execution_count": 113,
   "id": "02d9ed30",
   "metadata": {},
   "outputs": [
    {
     "name": "stdout",
     "output_type": "stream",
     "text": [
      "1\n",
      "8\n",
      "2\n"
     ]
    }
   ],
   "source": [
    "first, _ , last = [1, 2, 8]\n",
    "print(first)\n",
    "print(last)\n",
    "print(_)"
   ]
  },
  {
   "cell_type": "code",
   "execution_count": 61,
   "id": "b065aedc",
   "metadata": {},
   "outputs": [
    {
     "name": "stdout",
     "output_type": "stream",
     "text": [
      "1\n",
      "8\n",
      "2\n"
     ]
    }
   ],
   "source": [
    "numbers = [1, 2, 8]\n",
    "for value in numbers:\n",
    "    if value == numbers[0]:\n",
    "        first = value\n",
    "    elif value == numbers[-1]:\n",
    "        last = value\n",
    "print(first)\n",
    "print(last)\n",
    "print(_)\n"
   ]
  },
  {
   "cell_type": "markdown",
   "id": "569a4fde",
   "metadata": {},
   "source": [
    "# 12.Century Crisis\n",
    "Scientists have discovered that in four decades, the world will EXPLODE! It will also take three decades to make a spaceship to travel to a new planet that can hold the entire world population.\n",
    "\n",
    "You must calculate the number of people there will be in three decades from now.\n",
    "\n",
    "The variable P is the world population now.\n",
    "\n",
    "* Assume that every month, someone gives birth to more people nP.\n",
    "* Return the number of people there will be when the spaceship is complete."
   ]
  },
  {
   "cell_type": "code",
   "execution_count": 117,
   "id": "d3f8b009",
   "metadata": {},
   "outputs": [
    {
     "name": "stdout",
     "output_type": "stream",
     "text": [
      "Enter the population : 100000\n",
      "enter the births per month : 20000\n",
      "36\n",
      "720000\n",
      "820000\n"
     ]
    }
   ],
   "source": [
    "P=int(input('Enter the population : '))\n",
    "np=int(input('enter the births per month : '))\n",
    "decades=3\n",
    "months=decades*12\n",
    "print(months)\n",
    "birth=np*months\n",
    "print(birth)\n",
    "total_population=P+birth\n",
    "print(total_population)\n",
    "\n"
   ]
  },
  {
   "cell_type": "code",
   "execution_count": 62,
   "id": "83bec296",
   "metadata": {},
   "outputs": [
    {
     "name": "stdout",
     "output_type": "stream",
     "text": [
      "Enter the population: 100000\n",
      "Enter the births per month: 20000\n",
      "820000\n"
     ]
    }
   ],
   "source": [
    "P = int(input('Enter the population: '))\n",
    "np = int(input('Enter the births per month: '))\n",
    "decades = 3\n",
    "months_per_decade = 12\n",
    "total_population = P\n",
    "\n",
    "for _ in range(decades):\n",
    "    birth = np * months_per_decade\n",
    "    total_population += birth\n",
    "\n",
    "print(total_population)\n"
   ]
  },
  {
   "cell_type": "markdown",
   "id": "79d3df78",
   "metadata": {},
   "source": [
    "# 13.Word Numbers!\n",
    "Create a function that returns a number, based on the string provided. Here is a list of all digits:\n",
    "\n",
    "String\tNumber\n",
    "\"one\"\t1\n",
    "\n",
    "\"two\"\t2\n",
    "\n",
    "\"three\"\t3\n",
    "\n",
    "\"four\"\t4\n",
    "\n",
    "\"five\"\t5\n",
    "\n",
    "\"six\"\t6\n",
    "\n",
    "\"seven\"\t7\n",
    "\n",
    "\"eight\"\t8\n",
    "\n",
    "\"nine\"\t9\n",
    "\n",
    "\"zero\"\t0\n",
    "\n",
    "Examples\n",
    "\n",
    "word(\"one\") ➞ 1\n",
    "\n",
    "word(\"two\") ➞ 2\n",
    "\n",
    "word(\"nine\") ➞ 9"
   ]
  },
  {
   "cell_type": "code",
   "execution_count": 141,
   "id": "42bb8012",
   "metadata": {},
   "outputs": [
    {
     "name": "stdout",
     "output_type": "stream",
     "text": [
      "2\n"
     ]
    }
   ],
   "source": [
    "number={\"one\" :1,\"two\" :2,\"three\" :3,\"four\" :4,\"five\" :5,\"six\": 6,\"seven\":7,\"eight\" :8,\"nine\" :9,\"zero\" :0}\n",
    "print(x['two'])"
   ]
  },
  {
   "cell_type": "code",
   "execution_count": 140,
   "id": "8d255ff7",
   "metadata": {},
   "outputs": [
    {
     "name": "stdout",
     "output_type": "stream",
     "text": [
      "2\n"
     ]
    }
   ],
   "source": [
    "def list_of_digits(word):\n",
    "    \n",
    "    number={\"one\" :1,\"two\" :2,\"three\" :3,\"four\" :4,\"five\" :5,\"six\": 6,\"seven\":7,\"eight\" :8,\"nine\" :9,\"zero\" :0}\n",
    "    \n",
    "    return numbers.get(word, None)\n",
    "print(x['two'])"
   ]
  },
  {
   "cell_type": "code",
   "execution_count": 68,
   "id": "d88b2f20",
   "metadata": {},
   "outputs": [
    {
     "name": "stdout",
     "output_type": "stream",
     "text": [
      "2\n"
     ]
    }
   ],
   "source": [
    "number = {\"one\": 1, \"two\": 2, \"three\": 3, \"four\": 4, \"five\": 5, \"six\": 6, \"seven\": 7, \"eight\": 8, \"nine\": 9, \"zero\": 0}\n",
    "word = 'two'\n",
    "for i in number:\n",
    "    if i == word:\n",
    "        x = number[i]\n",
    "        break\n",
    "    else:\n",
    "        x = None\n",
    "\n",
    "print(x)\n"
   ]
  },
  {
   "cell_type": "markdown",
   "id": "9df4fb98",
   "metadata": {},
   "source": [
    "# 14.Count Instances of a Character in a String\n",
    "Create a function that takes two strings as arguments and returns the number of times the first string (the single character) is found in the second string.\n",
    "\n",
    "Examples\n",
    "\n",
    "char_count(\"a\", \"edabit\") ➞ 1\n",
    "\n",
    "char_count(\"c\", \"Chamber of secrets\") ➞ 1\n",
    "\n",
    "char_count(\"b\", \"big fat bubble\") ➞ 4"
   ]
  },
  {
   "cell_type": "code",
   "execution_count": 155,
   "id": "705251f7",
   "metadata": {},
   "outputs": [
    {
     "name": "stdout",
     "output_type": "stream",
     "text": [
      "Enter a char :a\n",
      "Enter a string :malayalam\n",
      "a,malayalam :  4\n"
     ]
    }
   ],
   "source": [
    "char=input('Enter a char :')\n",
    "string=input('Enter a string :')\n",
    "count=0\n",
    "for c in string:\n",
    "    if c==char:\n",
    "        count+=1\n",
    "\n",
    "print(f\"{char},{string} : \",count,sep=\" \")"
   ]
  },
  {
   "cell_type": "code",
   "execution_count": 73,
   "id": "c96c038f",
   "metadata": {},
   "outputs": [
    {
     "name": "stdout",
     "output_type": "stream",
     "text": [
      "Enter a char :a\n",
      "Enter a string :malayalam\n",
      "a, malayalam : 4\n"
     ]
    }
   ],
   "source": [
    "char=input('Enter a char :')\n",
    "string=input('Enter a string :')\n",
    "i=0\n",
    "count=0\n",
    "while i < len(string):\n",
    "    if string[i] == char:\n",
    "        count += 1\n",
    "    i += 1\n",
    "print(f\"{char}, {string} : {count}\")"
   ]
  },
  {
   "cell_type": "markdown",
   "id": "b20c8bef",
   "metadata": {},
   "source": [
    "# 15.Find the Index\n",
    "Create a function that takes a list and a string as arguments and returns the index of the string.\n",
    "\n",
    "Examples\n",
    "\n",
    "find_index([\"hi\", \"edabit\", \"fgh\", \"abc\"], \"fgh\") ➞ 2\n",
    "\n",
    "find_index([\"Red\", \"blue\", \"Blue\", \"Green\"], \"blue\") ➞ 1\n",
    "\n",
    "find_index([\"a\", \"g\", \"y\", \"d\"], \"d\") ➞ 3\n",
    "\n",
    "find_index([\"Pineapple\", \"Orange\", \"Grape\", \"Apple\"], \"Pineapple\") ➞ 0"
   ]
  },
  {
   "cell_type": "code",
   "execution_count": 182,
   "id": "32371a4d",
   "metadata": {},
   "outputs": [
    {
     "name": "stdout",
     "output_type": "stream",
     "text": [
      "1\n"
     ]
    }
   ],
   "source": [
    "def find_index(list, string):\n",
    "    if string in list:\n",
    "        return list.index(string)\n",
    "    else:\n",
    "        return None\n",
    "    \n",
    "print(find_index([\"hi\", \"edabit\", \"fgh\", \"abc\"], \"edabit\"))  \n"
   ]
  },
  {
   "cell_type": "code",
   "execution_count": 80,
   "id": "a9e59022",
   "metadata": {},
   "outputs": [
    {
     "name": "stdout",
     "output_type": "stream",
     "text": [
      "0\n"
     ]
    }
   ],
   "source": [
    "l=[\"hi\", \"edabit\", \"fgh\", \"abc\"]\n",
    "s=\"hi\"\n",
    "index=None\n",
    "\n",
    "for i, value in enumerate(l):\n",
    "    if value == s:\n",
    "        index = i\n",
    "        break\n",
    "print(index)\n"
   ]
  },
  {
   "cell_type": "code",
   "execution_count": 92,
   "id": "e3f1699b",
   "metadata": {},
   "outputs": [
    {
     "name": "stdout",
     "output_type": "stream",
     "text": [
      "2\n"
     ]
    }
   ],
   "source": [
    "l=[\"hi\", \"edabit\", \"fgh\", \"abc\"]\n",
    "s=\"fgh\"\n",
    "index=None\n",
    "i=0\n",
    "while i<len(l):\n",
    "    if l[i] == s: \n",
    "        index=i\n",
    "        break\n",
    "    i+=1\n",
    "print(index)    "
   ]
  },
  {
   "cell_type": "code",
   "execution_count": 180,
   "id": "0c6be47e",
   "metadata": {},
   "outputs": [
    {
     "name": "stdout",
     "output_type": "stream",
     "text": [
      "3\n"
     ]
    }
   ],
   "source": [
    "l=[\"hi\", \"edabit\", \"fgh\", \"abc\"]\n",
    "x=l.index('abc')\n",
    "print(x)\n"
   ]
  },
  {
   "cell_type": "markdown",
   "id": "ec14dcaa",
   "metadata": {},
   "source": [
    "# 16.Recreating a len() Function\n",
    "Create a function which returns the length of a string, without using len().\n",
    "\n",
    "Examples\n",
    "\n",
    "length(\"Hello World\") ➞ 11\n",
    "\n",
    "length(\"Edabit\") ➞ 6\n",
    "\n",
    "length(\"wash your hands!\") ➞ 16"
   ]
  },
  {
   "cell_type": "code",
   "execution_count": 183,
   "id": "5fd7f6a1",
   "metadata": {},
   "outputs": [
    {
     "data": {
      "text/plain": [
       "11"
      ]
     },
     "execution_count": 183,
     "metadata": {},
     "output_type": "execute_result"
    }
   ],
   "source": [
    "x=(\"Hello World\")\n",
    "len(x)\n",
    "    \n"
   ]
  },
  {
   "cell_type": "code",
   "execution_count": 197,
   "id": "9db44391",
   "metadata": {},
   "outputs": [
    {
     "name": "stdout",
     "output_type": "stream",
     "text": [
      "11\n"
     ]
    }
   ],
   "source": [
    "def length(s):\n",
    "    count = 0\n",
    "    for _ in s:\n",
    "        count += 1\n",
    "    return count\n",
    "print(length(\"Hello World\")) \n"
   ]
  },
  {
   "cell_type": "code",
   "execution_count": 95,
   "id": "94529e99",
   "metadata": {},
   "outputs": [
    {
     "name": "stdout",
     "output_type": "stream",
     "text": [
      "11\n"
     ]
    }
   ],
   "source": [
    "s=(\"Hello World\")\n",
    "count=0\n",
    "result=0\n",
    "for _ in s:\n",
    "    count+=1\n",
    "    result= count\n",
    "print(count)"
   ]
  },
  {
   "cell_type": "code",
   "execution_count": 96,
   "id": "fb8d9944",
   "metadata": {},
   "outputs": [
    {
     "name": "stdout",
     "output_type": "stream",
     "text": [
      "11\n"
     ]
    }
   ],
   "source": [
    "s=(\"Hello World\")\n",
    "i=0\n",
    "result=0\n",
    "while i<len(s):\n",
    "    i+=1\n",
    "    result=i\n",
    "print(result)    "
   ]
  },
  {
   "cell_type": "markdown",
   "id": "786d5941",
   "metadata": {},
   "source": [
    "# 17.Sum of Minimums\n",
    "Create a function that takes a 2D list lst and returns the sum of the minimum value in each row.\n",
    "\n",
    "Examples\n",
    "\n",
    "sum_minimums([\n",
    "  [1, 2, 3, 4, 5],\n",
    "  [5, 6, 7, 8, 9],\n",
    "  [20, 21, 34, 56, 100]\n",
    "]) ➞ 26\n",
    "\n",
    "* minimum value of the first row is 1\n",
    "* minimum value of the second row is 5\n",
    "* minimum value of the third row is 20"
   ]
  },
  {
   "cell_type": "code",
   "execution_count": 231,
   "id": "1b6d0be4",
   "metadata": {},
   "outputs": [
    {
     "name": "stdout",
     "output_type": "stream",
     "text": [
      "[[1, 2, 3, 4, 5], [5, 6, 7, 8, 9], [20, 21, 34, 56, 100]] : 26\n"
     ]
    }
   ],
   "source": [
    "l = [\n",
    "    [1, 2, 3, 4, 5],\n",
    "    [5, 6, 7, 8, 9],\n",
    "    [20, 21, 34, 56, 100]\n",
    "]\n",
    "\n",
    "total_sum = 0\n",
    "\n",
    "for row in l:\n",
    "    min_value = row[0]\n",
    "    for num in row:\n",
    "        if num < min_value:\n",
    "            min_value = num\n",
    "    total_sum += min_value\n",
    "print(f'{l} : {total_sum}') \n"
   ]
  },
  {
   "cell_type": "code",
   "execution_count": 103,
   "id": "6626346b",
   "metadata": {},
   "outputs": [
    {
     "name": "stdout",
     "output_type": "stream",
     "text": [
      "[[1, 2, 3, 4, 5], [5, 6, 7, 8, 9], [20, 21, 34, 56, 100]] : 26\n"
     ]
    }
   ],
   "source": [
    "l = [\n",
    "    [1, 2, 3, 4, 5],\n",
    "    [5, 6, 7, 8, 9],\n",
    "    [20, 21, 34, 56, 100]\n",
    "]\n",
    "\n",
    "total_sum = 0\n",
    "\n",
    "for sublist in l:\n",
    "    min_value = min(sublist)\n",
    "    total_sum += min_value\n",
    "\n",
    "print(f'{l} : {total_sum}')\n"
   ]
  },
  {
   "cell_type": "markdown",
   "id": "7077b80f",
   "metadata": {},
   "source": [
    "# 18.The Forbidden Letter\n",
    "Given a letter and a list of words, return whether the letter does not appear in any of the words.\n",
    "\n",
    "Examples\n",
    "\n",
    "forbidden_letter(\"r\", [\"rock\", \"paper\", \"scissors\"]) ➞ False\n",
    "\n",
    "forbidden_letter(\"a\", [\"spoon\", \"fork\", \"knife\"]) ➞ True\n",
    "\n",
    "forbidden_letter(\"m\", []) ➞ True"
   ]
  },
  {
   "cell_type": "code",
   "execution_count": 206,
   "id": "c551463f",
   "metadata": {},
   "outputs": [
    {
     "name": "stdout",
     "output_type": "stream",
     "text": [
      "False\n"
     ]
    }
   ],
   "source": [
    "letter = \"r\"\n",
    "words = [\"rock\", \"paper\", \"scissors\"]\n",
    "\n",
    "for word in words:\n",
    "    if letter in word:\n",
    "        result = False\n",
    "        break\n",
    "else:\n",
    "    result = True\n",
    "\n",
    "print(result) "
   ]
  },
  {
   "cell_type": "code",
   "execution_count": 241,
   "id": "d5e6703d",
   "metadata": {},
   "outputs": [
    {
     "name": "stdout",
     "output_type": "stream",
     "text": [
      "True\n"
     ]
    }
   ],
   "source": [
    "letter = \"a\"\n",
    "words = [\"rock\", \"paper\", \"scissors\"]\n",
    "if letter in word:\n",
    "    result=False\n",
    "else:\n",
    "    result=True\n",
    "print(result)    "
   ]
  },
  {
   "cell_type": "markdown",
   "id": "35523337",
   "metadata": {},
   "source": [
    "# 19.Factors of a Given Number\n",
    "Create a function that finds each factor of a given number n. Your solution should return a list of the number(s) that meet this criteria.\n",
    "\n",
    "Examples\n",
    "\n",
    "find_factors(9) ➞ [1, 3, 9]\n",
    "* 9 has three factors 1, 3 and 9\n",
    "\n",
    "find_factors(12) ➞ [1, 2, 3, 4, 6, 12]\n",
    "\n",
    "find_factors(20) ➞ [1, 2, 4, 5, 10, 20]\n",
    "\n",
    "find_factors(0) ➞ []\n",
    "* 0 has no factors"
   ]
  },
  {
   "cell_type": "code",
   "execution_count": 257,
   "id": "f22db74c",
   "metadata": {},
   "outputs": [
    {
     "name": "stdout",
     "output_type": "stream",
     "text": [
      "Enter the num : 12\n",
      "[1, 2, 3, 4, 6, 12]\n"
     ]
    }
   ],
   "source": [
    "n = int(input('Enter the num : '))\n",
    "factors = []\n",
    "for var in range(1, n+1):\n",
    "    if n % var == 0:\n",
    "        factors.append(var)\n",
    "\n",
    "print(factors)\n"
   ]
  },
  {
   "cell_type": "code",
   "execution_count": 262,
   "id": "2c678735",
   "metadata": {},
   "outputs": [
    {
     "name": "stdout",
     "output_type": "stream",
     "text": [
      "[1, 2, 3, 4, 6, 12]\n"
     ]
    }
   ],
   "source": [
    "def find_factors(n):\n",
    "    factor=[]\n",
    "    for var in range(1,n+1):\n",
    "        if n%var==0:\n",
    "            factor.append(var)\n",
    "    return factor \n",
    "result=find_factors(12)\n",
    "print(result)\n",
    "            \n"
   ]
  },
  {
   "cell_type": "code",
   "execution_count": 10,
   "id": "d5307373",
   "metadata": {},
   "outputs": [
    {
     "name": "stdout",
     "output_type": "stream",
     "text": [
      "Enter the num : 12\n",
      "[1, 2, 3, 4, 6, 12]\n"
     ]
    }
   ],
   "source": [
    "n = int(input('Enter the num : '))\n",
    "factors = []\n",
    "i=1\n",
    "while i<=n:\n",
    "    if n%i==0:\n",
    "        factors.append(i)\n",
    "    i+=1\n",
    "        \n",
    "print(factors)"
   ]
  },
  {
   "cell_type": "markdown",
   "id": "636add57",
   "metadata": {},
   "source": [
    "# 20.Reverse the Case\n",
    "Given a string, create a function to reverse the case. All lower-cased letters should be upper-cased, and vice versa.\n",
    "\n",
    "Examples\n",
    "\n",
    "reverse_case(\"Happy Birthday\") ➞ \"hAPPY bIRTHDAY\"\n",
    "\n",
    "reverse_case(\"MANY THANKS\") ➞ \"many thanks\"\n",
    "\n",
    "reverse_case(\"sPoNtAnEoUs\") ➞ \"SpOnTaNeOuS\""
   ]
  },
  {
   "cell_type": "code",
   "execution_count": 304,
   "id": "32828fc8",
   "metadata": {},
   "outputs": [
    {
     "name": "stdout",
     "output_type": "stream",
     "text": [
      "enter the string : Happy Birthday\n"
     ]
    },
    {
     "data": {
      "text/plain": [
       "'hAPPY bIRTHDAY'"
      ]
     },
     "execution_count": 304,
     "metadata": {},
     "output_type": "execute_result"
    }
   ],
   "source": [
    "s = input('enter the string : ')\n",
    "s.swapcase()"
   ]
  },
  {
   "cell_type": "code",
   "execution_count": 1,
   "id": "20bfd9c9",
   "metadata": {},
   "outputs": [
    {
     "name": "stdout",
     "output_type": "stream",
     "text": [
      "Enter string:sPoNtAnEoUs\n",
      "swap_case(\"sPoNtAnEoUs\") ----> \"SpOnTaNeOuS\"\n"
     ]
    }
   ],
   "source": [
    "x = input(\"Enter string:\")\n",
    "y = list(x)\n",
    "i = 0\n",
    "while i<len(x):\n",
    "    if ord(x[i]) >=65 and ord(x[i]) <= 90:\n",
    "        y[i] = chr(ord(x[i])+32)\n",
    "    if ord(x[i]) >=97 and ord(x[i]) <= 122:\n",
    "        y[i] = chr(ord(x[i])-32)\n",
    "    i+=1\n",
    "z = \"\".join(y)\n",
    "print(f'swap_case(\"{x}\") ----> \"{z}\"')"
   ]
  },
  {
   "cell_type": "code",
   "execution_count": 302,
   "id": "2b8a6331",
   "metadata": {},
   "outputs": [
    {
     "name": "stdout",
     "output_type": "stream",
     "text": [
      "enter the string : MANY THANKS\n",
      "many thanks\n"
     ]
    }
   ],
   "source": [
    "s = input('enter the string : ')\n",
    "reversed_string = ''\n",
    "\n",
    "for char in s:\n",
    "    if char.islower():\n",
    "        reversed_string += char.upper()\n",
    "    else:\n",
    "        reversed_string += char.lower()\n",
    "\n",
    "print(reversed_string)  "
   ]
  },
  {
   "cell_type": "markdown",
   "id": "0da9df32",
   "metadata": {},
   "source": [
    "# 21.Hashes and Pluses\n",
    "Create a function that returns the number of hashes and pluses in a string.\n",
    "\n",
    "Examples\n",
    "\n",
    "hash_plus_count(\"###+\") ➞ [3, 1]\n",
    "\n",
    "hash_plus_count(\"##+++#\") ➞ [3, 3]\n",
    "\n",
    "hash_plus_count(\"#+++#+#++#\") ➞ [4, 6]\n",
    "\n",
    "hash_plus_count(\"\") ➞ [0, 0]"
   ]
  },
  {
   "cell_type": "code",
   "execution_count": 311,
   "id": "38b0a05e",
   "metadata": {},
   "outputs": [
    {
     "name": "stdout",
     "output_type": "stream",
     "text": [
      "enter the string:#+++#+#++#\n",
      "[4, 6]\n"
     ]
    }
   ],
   "source": [
    "s = input('enter the string:')\n",
    "hash_count = 0\n",
    "plus_count = 0\n",
    "\n",
    "for c in s:\n",
    "    if c == '#':\n",
    "        hash_count += 1\n",
    "    elif c == '+':\n",
    "        plus_count += 1\n",
    "\n",
    "result = [hash_count, plus_count]\n",
    "print(result) "
   ]
  },
  {
   "cell_type": "code",
   "execution_count": 11,
   "id": "7148e6b9",
   "metadata": {},
   "outputs": [
    {
     "name": "stdout",
     "output_type": "stream",
     "text": [
      "Enter the string: #+++#+#++#\n",
      "[4, 6]\n"
     ]
    }
   ],
   "source": [
    "s = input('Enter the string: ')\n",
    "hash_count = 0\n",
    "plus_count = 0\n",
    "i= 0\n",
    "\n",
    "while i < len(s):\n",
    "    if s[i] == '#':\n",
    "        hash_count += 1\n",
    "    elif s[i] == '+':\n",
    "        plus_count += 1\n",
    "    i += 1\n",
    "\n",
    "result = [hash_count, plus_count]\n",
    "print(result)\n"
   ]
  },
  {
   "cell_type": "markdown",
   "id": "bfe5b05c",
   "metadata": {},
   "source": [
    "# 22.Even and Odd Strings\n",
    "Given a one word lowercase string txt, return another string such that even-indexed and odd-indexed characters are grouped and groups are space-separated.\n",
    "\n",
    "Examples\n",
    "\n",
    "even_odd_string(\"mubashir\") ➞ \"mbsi uahr\"\n",
    "\n",
    "#Letters at even indexes = \"mbsi\"\n",
    "\n",
    "#Letters at odd indexes = \"uahr\"\n",
    "\n",
    "#Join both strings with a space\n",
    "\n",
    "even_odd_string(\"edabit\") ➞ \"eai dbt\"\n",
    "\n",
    "even_odd_string(\"airforce\") ➞ \"aroc ifre\""
   ]
  },
  {
   "cell_type": "code",
   "execution_count": 330,
   "id": "7e5b87ba",
   "metadata": {},
   "outputs": [
    {
     "name": "stdout",
     "output_type": "stream",
     "text": [
      "Enter a string :mubashir\n",
      "mbsi uahr\n"
     ]
    }
   ],
   "source": [
    "s=input('Enter a string :')\n",
    "i=0\n",
    "while i<len(s)/8:\n",
    "    print(s[::2]+\" \"+s[1::2])\n",
    "    i+=1\n"
   ]
  },
  {
   "cell_type": "code",
   "execution_count": 334,
   "id": "2eae1b51",
   "metadata": {},
   "outputs": [
    {
     "name": "stdout",
     "output_type": "stream",
     "text": [
      "Enter a string :airforce\n",
      "aroc ifre\n"
     ]
    }
   ],
   "source": [
    "s=input('Enter a string :')\n",
    "even_chars = \"\"\n",
    "odd_chars = \"\"\n",
    "i = 0\n",
    "for char in s:\n",
    "    if i%2 == 0:\n",
    "        even_chars += char\n",
    "    else:\n",
    "        odd_chars += char\n",
    "    i+= 1\n",
    "\n",
    "result = even_chars + \" \" + odd_chars\n",
    "print(result)  \n",
    "\n"
   ]
  },
  {
   "cell_type": "markdown",
   "id": "4b192022",
   "metadata": {},
   "source": [
    "# 23.Sum of the Odd Numbers\n",
    "Create a function which returns the total of all odd numbers up to and including n. n will be given as an odd number.\n",
    "\n",
    "Examples\n",
    "\n",
    "add_odd_to_n(5) ➞ 9\n",
    "\n",
    "1 + 3 + 5 = 9"
   ]
  },
  {
   "cell_type": "code",
   "execution_count": 342,
   "id": "38699619",
   "metadata": {},
   "outputs": [
    {
     "name": "stdout",
     "output_type": "stream",
     "text": [
      "9\n"
     ]
    }
   ],
   "source": [
    "n = 5\n",
    "sum= 0\n",
    "for i in range(1, n+1, 2):\n",
    "    sum += i\n",
    "\n",
    "print(sum)  \n",
    "    \n"
   ]
  },
  {
   "cell_type": "code",
   "execution_count": 119,
   "id": "3616dd0c",
   "metadata": {},
   "outputs": [
    {
     "name": "stdout",
     "output_type": "stream",
     "text": [
      "9\n"
     ]
    }
   ],
   "source": [
    "n = 5\n",
    "sum= 0\n",
    "i=1\n",
    "while i<= n:\n",
    "    sum+=i\n",
    "    i+=2\n",
    "print(sum)    "
   ]
  },
  {
   "cell_type": "markdown",
   "id": "51ca6183",
   "metadata": {},
   "source": [
    "# 24.Summing the Squares\n",
    "Create a function that takes a number n and returns the sum of all square numbers up to and including n.\n",
    "\n",
    "squares_sum(3) ➞ 14\n",
    "\n",
    "#1² + 2² + 3² =\n",
    "\n",
    "#1 + 4 + 9 =\n",
    " 14\n",
    "Examples\n",
    "\n",
    "squares_sum(3) ➞ 14\n",
    "\n",
    "squares_sum(12) ➞ 650\n",
    "\n",
    "squares_sum(13) ➞ 819"
   ]
  },
  {
   "cell_type": "code",
   "execution_count": 26,
   "id": "660b6ace",
   "metadata": {},
   "outputs": [
    {
     "name": "stdout",
     "output_type": "stream",
     "text": [
      "Enter square sum num :3\n",
      "14\n"
     ]
    }
   ],
   "source": [
    "x=int(input('Enter square sum num :'))\n",
    "result=0\n",
    "for i in range(1,x+1):\n",
    "    result+=i**2\n",
    "print(result)    \n"
   ]
  },
  {
   "cell_type": "code",
   "execution_count": 124,
   "id": "af56d1c7",
   "metadata": {},
   "outputs": [
    {
     "name": "stdout",
     "output_type": "stream",
     "text": [
      "Enter square sum num :3\n",
      "14\n"
     ]
    }
   ],
   "source": [
    "x=int(input('Enter square sum num :'))\n",
    "result=0\n",
    "i=1\n",
    "while i<=x:\n",
    "    result+=i**2\n",
    "    i+=1\n",
    "print(result)"
   ]
  },
  {
   "cell_type": "markdown",
   "id": "83f0023f",
   "metadata": {},
   "source": [
    "# 25.Negate the List of Numbers\n",
    "Given a list of numbers, negate all elements contained within.\n",
    "\n",
    "Negating a positive value -+n will return -n, because all +'s are removed.\n",
    "\n",
    "Negating a negative value --n will return n, because the first - turns the second minus into a +.\n",
    "\n",
    "Examples\n",
    "\n",
    "negate([1, 2, 3, 4]) ➞ [-1, -2, -3, -4]\n",
    "\n",
    "negate([-1, 2, -3, 4]) ➞ [1, -2, 3, -4]\n",
    "\n",
    "negate([]) ➞ []"
   ]
  },
  {
   "cell_type": "code",
   "execution_count": 15,
   "id": "d3ee8b98",
   "metadata": {},
   "outputs": [
    {
     "name": "stdout",
     "output_type": "stream",
     "text": [
      "[-1, -2, -3, -4]\n"
     ]
    }
   ],
   "source": [
    "x=[1, 2, 3, 4]\n",
    "\n",
    "for i in range(len(x)):\n",
    "    num=x[i]\n",
    "    if num>0:\n",
    "        x[i]=-num\n",
    "    elif num<0:\n",
    "        x[i]=-(-num)\n",
    "    \n",
    "print(x)    \n",
    "        \n"
   ]
  },
  {
   "cell_type": "code",
   "execution_count": 14,
   "id": "cdf95fb5",
   "metadata": {},
   "outputs": [
    {
     "name": "stdout",
     "output_type": "stream",
     "text": [
      "[-1, -2, -3, -4]\n"
     ]
    }
   ],
   "source": [
    "x=[1, 2, 3, 4]\n",
    "i=0\n",
    "while i<len(x):\n",
    "    num=x[i]\n",
    "    if num>0:\n",
    "        x[i]=-num\n",
    "    elif num == 0:\n",
    "        x[i] = 0\n",
    "    elif num < 0:\n",
    "        x[i] = -(-num)\n",
    "    i += 1\n",
    "\n",
    "print(x)        \n",
    "        "
   ]
  },
  {
   "cell_type": "markdown",
   "id": "3ba8f41b",
   "metadata": {},
   "source": [
    "# 26.Return Last Item\n",
    "Create a function that returns the last value of the last item in a list or string.\n",
    "\n",
    "Examples\n",
    "\n",
    "last_ind([0, 4, 19, 34, 50, -9, 2]) ➞ 2\n",
    "\n",
    "last_ind(\"The quick brown fox jumped over the lazy dog\") ➞ \"g\"\n",
    "\n",
    "last_ind([]) ➞ None"
   ]
  },
  {
   "cell_type": "code",
   "execution_count": 16,
   "id": "1f3c0c25",
   "metadata": {},
   "outputs": [
    {
     "name": "stdout",
     "output_type": "stream",
     "text": [
      "2\n"
     ]
    }
   ],
   "source": [
    "x=[0, 4, 19, 34, 50, -9, 2]\n",
    "for num in x:\n",
    "    last_item=x[-1]\n",
    "print(last_item)    \n"
   ]
  },
  {
   "cell_type": "code",
   "execution_count": 20,
   "id": "20f25bf1",
   "metadata": {},
   "outputs": [
    {
     "name": "stdout",
     "output_type": "stream",
     "text": [
      "2\n"
     ]
    }
   ],
   "source": [
    "x=[0, 4, 19, 34, 50, -9, 2]\n",
    "i=0\n",
    "last_item=0\n",
    "while i<len(x):\n",
    "    last_item=x[i]\n",
    "    i+=1\n",
    "print(last_item)    \n",
    " \n"
   ]
  },
  {
   "cell_type": "markdown",
   "id": "a43f974e",
   "metadata": {},
   "source": [
    "# 27.Additive Inverse\n",
    "A number added with its additive inverse equals zero. Create a function that returns a list of additive inverses.\n",
    "\n",
    "Examples\n",
    "\n",
    "additive_inverse([5, -7, 8, 3]) ➞ [-5, 7, -8, -3]\n",
    "\n",
    "additive_inverse([1, 1, 1, 1, 1]) ➞ [-1, -1, -1, -1, -1]\n",
    "\n",
    "additive_inverse([-5, -25, 35]) ➞ [5, 25, -35]"
   ]
  },
  {
   "cell_type": "code",
   "execution_count": 54,
   "id": "20d4b1c3",
   "metadata": {},
   "outputs": [
    {
     "name": "stdout",
     "output_type": "stream",
     "text": [
      "[-5, 7, -8, -3]\n"
     ]
    }
   ],
   "source": [
    "x=[5, -7, 8, 3]\n",
    "for  i in range(len(x)):\n",
    "    num=x[i]\n",
    "    if num> 0:\n",
    "        x[i]=-num\n",
    "        \n",
    "    elif num<0:\n",
    "        x[i]=-num\n",
    "        \n",
    "print(x)        \n",
    "        \n",
    "    \n"
   ]
  },
  {
   "cell_type": "markdown",
   "id": "b5e3c8e4",
   "metadata": {},
   "source": [
    "# 28.Add a Consecutive List of Numbers\n",
    "Write a function that takes the last number of a consecutive list of numbers and returns the total of all numbers up to and including it.\n",
    "\n",
    "Examples\n",
    "\n",
    "add_up_to(3) ➞ 6\n",
    "\n",
    "#1 + 2 + 3 = 6\n",
    "\n",
    "add_up_to(10) ➞ 55\n",
    "\n",
    "#1 + 2 + 3 + ... + 10 = 55\n",
    "\n",
    "add_up_to(7) ➞ 28\n",
    "\n",
    "#1 + 2 + 3 + ... + 7 = 28"
   ]
  },
  {
   "cell_type": "code",
   "execution_count": 98,
   "id": "9285e134",
   "metadata": {},
   "outputs": [
    {
     "name": "stdout",
     "output_type": "stream",
     "text": [
      "6\n"
     ]
    }
   ],
   "source": [
    "x=3\n",
    "result=0\n",
    "for i in range(1,x+1):\n",
    "    result+=i\n",
    "print(result)    \n"
   ]
  },
  {
   "cell_type": "code",
   "execution_count": 29,
   "id": "064a342f",
   "metadata": {},
   "outputs": [
    {
     "name": "stdout",
     "output_type": "stream",
     "text": [
      "6\n"
     ]
    }
   ],
   "source": [
    "x=3\n",
    "result=0\n",
    "i=1\n",
    "while i <=x:\n",
    "    result+=i\n",
    "    i+=1\n",
    "print(result)    "
   ]
  },
  {
   "cell_type": "markdown",
   "id": "f9e47756",
   "metadata": {},
   "source": [
    "# 29.Give Me the Even Numbers\n",
    "Create a function that takes two parameters (start, stop), and returns the sum of all even numbers in the range.\n",
    "\n",
    "Examples\n",
    "\n",
    "sum_even_nums_in_range(10, 20) ➞ 90\n",
    "\n",
    "#10, 12, 14, 16, 18, 20\n",
    "\n",
    "sum_even_nums_in_range(51, 150) ➞ 5050\n",
    "\n",
    "sum_even_nums_in_range(63, 97) ➞ 1360"
   ]
  },
  {
   "cell_type": "code",
   "execution_count": 82,
   "id": "8b754d9b",
   "metadata": {},
   "outputs": [
    {
     "name": "stdout",
     "output_type": "stream",
     "text": [
      "90\n"
     ]
    }
   ],
   "source": [
    "x,y=10,20\n",
    "result=0\n",
    "for i in range(x,y+1):\n",
    "    if i%2==0:\n",
    "        result+=i\n",
    "print(result)\n"
   ]
  },
  {
   "cell_type": "code",
   "execution_count": 32,
   "id": "248602d0",
   "metadata": {},
   "outputs": [
    {
     "name": "stdout",
     "output_type": "stream",
     "text": [
      "90\n"
     ]
    }
   ],
   "source": [
    "x,y=10,20\n",
    "result=0\n",
    "i=x\n",
    "while i <= y:\n",
    "    if i%2==0:\n",
    "        result+=i\n",
    "    i+=1\n",
    "print(result)    \n"
   ]
  },
  {
   "cell_type": "markdown",
   "id": "d1cdb2a2",
   "metadata": {},
   "source": [
    "# 30.Is the String a Palindrome?\n",
    "A palindrome is a word that is identical forward and backwards.\n",
    "\n",
    "mom\n",
    "\n",
    "racecar\n",
    "\n",
    "kayak\n",
    "\n",
    "Given a word, create a function that checks whether it is a palindrome.\n",
    "\n",
    "Examples\n",
    "\n",
    "is_palindrome(\"mom\") ➞ True\n",
    "\n",
    "is_palindrome(\"scary\") ➞ False\n",
    "\n",
    "is_palindrome(\"reviver\") ➞ True\n",
    "\n",
    "is_palindrome(\"stressed\") ➞ False"
   ]
  },
  {
   "cell_type": "code",
   "execution_count": 92,
   "id": "133b0756",
   "metadata": {},
   "outputs": [
    {
     "name": "stdout",
     "output_type": "stream",
     "text": [
      "Enter the string : mom\n",
      "palindrome\n"
     ]
    }
   ],
   "source": [
    "x=input('Enter the string : ')\n",
    "if (x==x[::-1]):\n",
    "    print('palindrome')\n",
    "else:\n",
    "    print('not a palindrome')"
   ]
  },
  {
   "cell_type": "code",
   "execution_count": 97,
   "id": "6456a997",
   "metadata": {},
   "outputs": [
    {
     "name": "stdout",
     "output_type": "stream",
     "text": [
      "enter the string: mom\n"
     ]
    }
   ],
   "source": [
    "string =input('enter the string: ')\n",
    "is_palindrome = True\n",
    "\n",
    "length = len(string)\n",
    "for i in range(length // 2):\n",
    "    if string[i] != string[length - i - 1]:\n",
    "        is_palindrome = False\n",
    "        break\n",
    "if is_palindrome:\n",
    "    print(\"The string is a palindrome.\")\n",
    "else:\n",
    "    print(\"The string is not a palindrome.\")"
   ]
  },
  {
   "cell_type": "markdown",
   "id": "efb3913a",
   "metadata": {},
   "source": [
    "# 31.List of Consecutive Numbers\n",
    "Implement a function that returns a list containing all the consecutive numbers in ascendant order from the given value low up to the given value high (bounds included).\n",
    "\n",
    "Examples\n",
    "\n",
    "get_sequence(1, 5) ➞ [1, 2, 3, 4, 5]\n",
    "\n",
    "get_sequence(98, 100) ➞ [98, 99, 100]\n",
    "\n",
    "get_sequence(1000, 1000) ➞ [1000]"
   ]
  },
  {
   "cell_type": "code",
   "execution_count": 107,
   "id": "455d5245",
   "metadata": {},
   "outputs": [
    {
     "name": "stdout",
     "output_type": "stream",
     "text": [
      "[1, 2, 3, 4, 5]\n"
     ]
    }
   ],
   "source": [
    "x=1\n",
    "y=5\n",
    "result=[]\n",
    "for i in range(x,y+1):\n",
    "    result.append(i)\n",
    "print(result)    \n"
   ]
  },
  {
   "cell_type": "code",
   "execution_count": 35,
   "id": "0a5c43f5",
   "metadata": {},
   "outputs": [
    {
     "name": "stdout",
     "output_type": "stream",
     "text": [
      "[1, 2, 3, 4, 5]\n"
     ]
    }
   ],
   "source": [
    "x=1\n",
    "y=5\n",
    "result=[]\n",
    "i=x\n",
    "while i<=y:\n",
    "    result.append(i)\n",
    "    i+=1\n",
    "print(result)\n",
    "    \n"
   ]
  },
  {
   "cell_type": "markdown",
   "id": "a11647ba",
   "metadata": {},
   "source": [
    "# 32.Find the Index (Part 1)\n",
    "Create a function that finds the index of a given item.\n",
    "\n",
    "Examples\n",
    "\n",
    "search([1, 5, 3], 5) ➞ 1\n",
    "\n",
    "search([9, 8, 3], 3) ➞ 2\n",
    "\n",
    "search([1, 2, 3], 4) ➞ -1"
   ]
  },
  {
   "cell_type": "code",
   "execution_count": 114,
   "id": "da73cc48",
   "metadata": {},
   "outputs": [
    {
     "name": "stdout",
     "output_type": "stream",
     "text": [
      "1\n"
     ]
    }
   ],
   "source": [
    "x=[1, 5, 3]\n",
    "y=x.index(5)\n",
    "print(y)"
   ]
  },
  {
   "cell_type": "code",
   "execution_count": 119,
   "id": "54e001a7",
   "metadata": {},
   "outputs": [
    {
     "name": "stdout",
     "output_type": "stream",
     "text": [
      "2\n"
     ]
    }
   ],
   "source": [
    "x = [1, 5, 3]\n",
    "search = 3\n",
    "index =-1\n",
    "i = 0\n",
    "while i < len(x):\n",
    "    if x[i] == search:\n",
    "        index = i\n",
    "        break\n",
    "    i += 1\n",
    "print(index)  \n",
    "\n",
    "    "
   ]
  },
  {
   "cell_type": "markdown",
   "id": "a63952aa",
   "metadata": {},
   "source": [
    "# 33.Count the Capital Letters\n",
    "Given a string of letters, how many capital letters are there?\n",
    "\n",
    "Examples\n",
    "\n",
    "capital_letters(\"fvLzpxmgXSDrobbgMVrc\") ➞ 6\n",
    "\n",
    "capital_letters(\"JMZWCneOTFLWYwBWxyFw\") ➞ 14\n",
    "\n",
    "capital_letters(\"mqeytbbjwqemcdrdsyvq\") ➞ 0"
   ]
  },
  {
   "cell_type": "code",
   "execution_count": 120,
   "id": "524ade21",
   "metadata": {},
   "outputs": [
    {
     "name": "stdout",
     "output_type": "stream",
     "text": [
      "6\n"
     ]
    }
   ],
   "source": [
    "s= \"fvLzpxmgXSDrobbgMVrc\"\n",
    "count = 0\n",
    "\n",
    "for char in s:\n",
    "    if char.isupper():\n",
    "        count += 1\n",
    "\n",
    "print(count) \n"
   ]
  },
  {
   "cell_type": "code",
   "execution_count": 36,
   "id": "c602870b",
   "metadata": {},
   "outputs": [
    {
     "name": "stdout",
     "output_type": "stream",
     "text": [
      "6\n"
     ]
    }
   ],
   "source": [
    "s = \"fvLzpxmgXSDrobbgMVrc\"\n",
    "count = 0\n",
    "i = 0\n",
    "\n",
    "while i < len(s):\n",
    "    if s[i].isupper():\n",
    "        count += 1\n",
    "    i += 1\n",
    "\n",
    "print(count)\n"
   ]
  },
  {
   "cell_type": "markdown",
   "id": "fcf43011",
   "metadata": {},
   "source": [
    "# 34.N Tables + 1\n",
    "Create a function that takes a number num and returns the first 10 multiples of num with 1 added to it, separated by commas.\n",
    "\n",
    "Examples\n",
    "\n",
    "n_tables_plus_one(7) ➞ \"8,15,22,29,36,43,50,57,64,71\"\n",
    "\n",
    "n_tables_plus_one(1) ➞ \"2,3,4,5,6,7,8,9,10,11\"\n",
    "\n",
    "n_tables_plus_one(3) ➞ \"4,7,10,13,16,19,22,25,28,31\""
   ]
  },
  {
   "cell_type": "code",
   "execution_count": 124,
   "id": "689b9c29",
   "metadata": {},
   "outputs": [
    {
     "name": "stdout",
     "output_type": "stream",
     "text": [
      "8,15,22,29,36,43,50,57,64,71\n"
     ]
    }
   ],
   "source": [
    "num = 7\n",
    "result = []\n",
    "\n",
    "for i in range(1, 11):\n",
    "    result.append(str(num * i + 1))\n",
    "\n",
    "output = \",\".join(result)\n",
    "print(output)  \n"
   ]
  },
  {
   "cell_type": "code",
   "execution_count": 37,
   "id": "e459e8a2",
   "metadata": {},
   "outputs": [
    {
     "name": "stdout",
     "output_type": "stream",
     "text": [
      "8,15,22,29,36,43,50,57,64,71\n"
     ]
    }
   ],
   "source": [
    "num = 7\n",
    "result = []\n",
    "i = 1\n",
    "while i <= 10:\n",
    "    result.append(str(num * i + 1))\n",
    "    i += 1\n",
    "output = \",\".join(result)\n",
    "print(output)\n"
   ]
  },
  {
   "cell_type": "markdown",
   "id": "f85b2570",
   "metadata": {},
   "source": [
    "# 35.Reverse Coding Challenge #3\n",
    "This is a reverse coding challenge. Normally you're given explicit directions with how to create a function. Here, you must generate your own function to satisfy the relationship between the inputs and outputs.\n",
    "\n",
    "Your task is to create a function that, when fed the inputs below, produces the sample outputs shown.\n",
    "\n",
    "Examples\n",
    "\n",
    "[5, 7, 8, 2, 1], 2 ➞ [1, 1, 0, 0, 1]\n",
    "\n",
    "[9, 8, 16, 47], 4 ➞ [1, 0, 0, 3]\n",
    "\n",
    "[17, 11, 99, 55, 23, 1], 5 ➞ [2, 1, 4, 0, 3, 1]\n",
    "\n",
    "[6, 1], 7 ➞ [6, 1]\n",
    "\n",
    "[3, 2, 9], 3 ➞ [0, 2, 0]\n",
    "\n",
    "[48, 22, 0, 19, 33, 100], 10 ➞ [8, 2, 0, 9, 3, 0]"
   ]
  },
  {
   "cell_type": "code",
   "execution_count": 182,
   "id": "b6ebcf02",
   "metadata": {},
   "outputs": [
    {
     "name": "stdout",
     "output_type": "stream",
     "text": [
      "[9, 8, 16, 47],4----->[1, 0, 0, 3]\n"
     ]
    }
   ],
   "source": [
    "x = [9, 8, 16, 47]\n",
    "y= []\n",
    "k= 4\n",
    "for i in x:\n",
    "    y.append(i%k)\n",
    "print(f'{x},{k}----->{y}')    \n"
   ]
  },
  {
   "cell_type": "code",
   "execution_count": 183,
   "id": "d637117f",
   "metadata": {},
   "outputs": [
    {
     "name": "stdout",
     "output_type": "stream",
     "text": [
      "[48, 22, 0, 19, 33, 100],10 : [8, 2, 0, 9, 3, 0]\n"
     ]
    }
   ],
   "source": [
    "x = [48, 22, 0, 19, 33, 100]\n",
    "y= []\n",
    "z= 10\n",
    "for i in x:\n",
    "    y.append(i%z)\n",
    "print(f'{x},{z} : {y}')    \n"
   ]
  },
  {
   "cell_type": "markdown",
   "id": "5204905d",
   "metadata": {},
   "source": [
    "# 36.Burglary Series (11): Say What\n",
    "The insurance guy calls again. Apparently, they were informed by your spouse that some items were not stolen at all and you failed to mention this detail to them. This is a fraud attempt! You freeze and mumble something unintelligible. Find out what you said.\n",
    "\n",
    "Given a dictionary, return a string that concatenates all the values and adds the 2nd key at the end. Make sure you keep an empty space between them but not at the beginning or end of the string. Look at the examples for a clearer picture.\n",
    "\n",
    "Examples\n",
    "\n",
    "{ 1: \"Mommy\", 2: \"please\", 3: \"help\" } ➞ \"Mommy please help please\"\n",
    "\n",
    "{ 1: \"Me\", 2: \"innocent\", 3: \"is\" } ➞ \"Me innocent is innocent\"\n",
    "\n",
    "{ 1: \"Must\", 2: \"lawyer\", 3: \"call\" } ➞ \"Must lawyer call lawyer\""
   ]
  },
  {
   "cell_type": "code",
   "execution_count": null,
   "id": "83431a3d",
   "metadata": {},
   "outputs": [],
   "source": [
    "dic={ 1: \"Mommy\", 2: \"please\", 3: \"help\" }\n",
    "values = \" \".join(dic.values())\n",
    "result = f\"{values} {dic[2]}\"\n",
    "print(result) \n"
   ]
  },
  {
   "cell_type": "code",
   "execution_count": null,
   "id": "3bae8d1f",
   "metadata": {},
   "outputs": [],
   "source": [
    "dic={1: \"Me\", 2: \"innocent\", 3: \"is\"}\n",
    "values = \" \".join(dic.values())\n",
    "result = f\"{values} {dic[2]}\"\n",
    "print(result)"
   ]
  },
  {
   "cell_type": "markdown",
   "id": "db1dbff0",
   "metadata": {},
   "source": [
    "# 37.Word Endings\n",
    "Create a function that adds a string ending to each member in a list.\n",
    "\n",
    "Examples\n",
    "\n",
    "add_ending([\"clever\", \"meek\", \"hurried\", \"nice\"], \"ly\")\n",
    "➞ [\"cleverly\", \"meekly\", \"hurriedly\", \"nicely\"]\n",
    "\n",
    "add_ending([\"new\", \"pander\", \"scoop\"], \"er\")\n",
    "➞ [\"newer\", \"panderer\", \"scooper\"]\n",
    "\n",
    "add_ending([\"bend\", \"sharpen\", \"mean\"], \"ing\")\n",
    "➞ [\"bending\", \"sharpening\", \"meaning\"]"
   ]
  },
  {
   "cell_type": "code",
   "execution_count": null,
   "id": "51c0248f",
   "metadata": {},
   "outputs": [],
   "source": [
    "words=[\"new\", \"pander\", \"scoop\"]\n",
    "ending=\"er\"\n",
    "result = [word + ending for word in words]\n",
    "print(result)"
   ]
  },
  {
   "cell_type": "markdown",
   "id": "ba1d3fa3",
   "metadata": {},
   "source": [
    "# 38.Sum of Cubes\n",
    "Create a function that takes a list of numbers and returns the sum of its cubes.\n",
    "\n",
    "Examples\n",
    "\n",
    "sum_of_cubes([1, 5, 9]) ➞ 855\n",
    "\n",
    "#Since 1^3 + 5^3 + 9^3 = 1 + 125 + 729 = 855\n",
    "\n",
    "sum_of_cubes([3, 4, 5]) ➞ 216\n",
    "\n",
    "sum_of_cubes([2]) ➞ 8\n",
    "\n",
    "sum_of_cubes([]) ➞ 0"
   ]
  },
  {
   "cell_type": "code",
   "execution_count": 39,
   "id": "d4c5c1aa",
   "metadata": {},
   "outputs": [
    {
     "name": "stdout",
     "output_type": "stream",
     "text": [
      "216\n"
     ]
    }
   ],
   "source": [
    "s=[3, 4, 5]\n",
    "sum_of_cubes=0\n",
    "for num in s:\n",
    "    sum_of_cubes+=num**3\n",
    "print(sum_of_cubes)"
   ]
  },
  {
   "cell_type": "code",
   "execution_count": 44,
   "id": "62ec7773",
   "metadata": {},
   "outputs": [
    {
     "name": "stdout",
     "output_type": "stream",
     "text": [
      "216\n"
     ]
    }
   ],
   "source": [
    "s=[3, 4, 5]\n",
    "sum_of_cubes=0\n",
    "i=0\n",
    "while i<len(s):\n",
    "    sum_of_cubes+=s[i]**3\n",
    "    i+=1\n",
    "print(sum_of_cubes)"
   ]
  },
  {
   "cell_type": "markdown",
   "id": "39fccce2",
   "metadata": {},
   "source": [
    "# 39.Minimum Removals to Make Sum Even\n",
    "Create a function that returns the minimum number of elements removed to make the sum of all elements in a list even.\n",
    "\n",
    "Examples\n",
    "\n",
    "minimum_removals([1, 2, 3, 4, 5]) ➞ 1\n",
    "\n",
    "minimum_removals([5, 7, 9, 11]) ➞ 0\n",
    "\n",
    "minimum_removals([5, 7, 9, 12]) ➞ 1"
   ]
  },
  {
   "cell_type": "code",
   "execution_count": 227,
   "id": "869fe018",
   "metadata": {},
   "outputs": [
    {
     "name": "stdout",
     "output_type": "stream",
     "text": [
      "0\n"
     ]
    }
   ],
   "source": [
    "l = [2, 4, 8, 12]\n",
    "odd = sum(1 for num in l if num % 2 != 0)\n",
    "\n",
    "if odd % 2 == 0:\n",
    "    print(0)  \n",
    "else:\n",
    "    print(1) "
   ]
  },
  {
   "cell_type": "code",
   "execution_count": 45,
   "id": "7d3907a6",
   "metadata": {},
   "outputs": [
    {
     "name": "stdout",
     "output_type": "stream",
     "text": [
      "0\n"
     ]
    }
   ],
   "source": [
    "l = [2, 4, 8, 12]\n",
    "odd_count = 0\n",
    "\n",
    "for num in l:\n",
    "    if num % 2 != 0:\n",
    "        odd_count += 1\n",
    "\n",
    "if odd_count % 2 == 0:\n",
    "    print(0)\n",
    "else:\n",
    "    print(1)\n"
   ]
  },
  {
   "cell_type": "markdown",
   "id": "5af4d3f2",
   "metadata": {},
   "source": [
    "# 40.Generate a Countdown of Numbers in a List\n",
    "Create a function that takes a number as an argument and returns a list of numbers counting down from this number to zero.\n",
    "\n",
    "Examples\n",
    "\n",
    "countdown(5) ➞ [5, 4, 3, 2, 1, 0]\n",
    "\n",
    "countdown(1) ➞ [1, 0]\n",
    "\n",
    "countdown(0) ➞ [0]"
   ]
  },
  {
   "cell_type": "code",
   "execution_count": 228,
   "id": "8fbef0c5",
   "metadata": {},
   "outputs": [
    {
     "name": "stdout",
     "output_type": "stream",
     "text": [
      "[5, 4, 3, 2, 1, 0]\n"
     ]
    }
   ],
   "source": [
    "num = 5\n",
    "countdown_list = []\n",
    "\n",
    "while num >= 0:\n",
    "    countdown_list.append(num)\n",
    "    num -= 1\n",
    "\n",
    "print(countdown_list)\n"
   ]
  },
  {
   "cell_type": "code",
   "execution_count": 47,
   "id": "ea9901c3",
   "metadata": {},
   "outputs": [
    {
     "name": "stdout",
     "output_type": "stream",
     "text": [
      "[5, 4, 3, 2, 1, 0]\n"
     ]
    }
   ],
   "source": [
    "num = 5\n",
    "countdown_list = []\n",
    "for i in range(num+1):\n",
    "    countdown_list.append(num)\n",
    "    num -= 1\n",
    "print(countdown_list)  \n"
   ]
  },
  {
   "cell_type": "markdown",
   "id": "ee4fa79f",
   "metadata": {},
   "source": [
    "\n",
    "\n",
    "\n",
    "# 41.Who's in First Place?\n",
    "Create a function that takes a string road and returns the car that's in first place. The road will be made of \"=\", and cars will be represented by letters in the alphabet.\n",
    "\n",
    "Examples\n",
    "\n",
    "first_place(\"====b===O===e===U=A==\") ➞ \"A\"\n",
    "\n",
    "first_place(\"e==B=Fe\") ➞ \"e\"\n",
    "\n",
    "first_place(\"proeNeoOJGnfl\") ➞ \"l\""
   ]
  },
  {
   "cell_type": "code",
   "execution_count": 249,
   "id": "85143bf3",
   "metadata": {},
   "outputs": [
    {
     "name": "stdout",
     "output_type": "stream",
     "text": [
      "A\n"
     ]
    }
   ],
   "source": [
    "road = \"====b===O===e===U=A==\"\n",
    "first_car = None\n",
    "\n",
    "for char in road:\n",
    "    if char.isalpha():\n",
    "        first_car = char\n",
    "print(first_car)  \n"
   ]
  },
  {
   "cell_type": "code",
   "execution_count": 57,
   "id": "bb258c06",
   "metadata": {},
   "outputs": [
    {
     "name": "stdout",
     "output_type": "stream",
     "text": [
      "A\n"
     ]
    }
   ],
   "source": [
    "road = \"====b===O===e===U=A==\"\n",
    "first_car = None\n",
    "i=0\n",
    "while i<len(road):\n",
    "    if road[i].isalpha():\n",
    "        first_car=road[i]\n",
    "        if first_car == 'A':\n",
    "            break\n",
    "    i+=1    \n",
    "print(first_car) "
   ]
  },
  {
   "cell_type": "markdown",
   "id": "3d709bd7",
   "metadata": {},
   "source": [
    "# 42.List from Comma-Delimited String\n",
    "Write a function that turns a comma-delimited list into an array of strings.\n",
    "\n",
    "Examples\n",
    "\n",
    "to_array(\"watermelon, raspberry, orange\")\n",
    "➞ [\"watermelon\", \"raspberry\", \"orange\"]\n",
    "\n",
    "to_array(\"x1, x2, x3, x4, x5\")\n",
    "➞ [\"x1\", \"x2\", \"x3\", \"x4\", \"x5\"]\n",
    "\n",
    "to_array(\"a, b, c, d\")\n",
    "➞ [\"a\", \"b\", \"c\", \"d\"]\n",
    "\n",
    "to_array(\"\")\n",
    "➞ []"
   ]
  },
  {
   "cell_type": "code",
   "execution_count": 243,
   "id": "9756aabf",
   "metadata": {},
   "outputs": [
    {
     "name": "stdout",
     "output_type": "stream",
     "text": [
      "['watermelon', ' raspberry', ' orange']\n"
     ]
    }
   ],
   "source": [
    "a=\"watermelon, raspberry, orange\" \n",
    "result=a.split(\",\")\n",
    "print(result)"
   ]
  },
  {
   "cell_type": "markdown",
   "id": "f0b300d5",
   "metadata": {},
   "source": [
    "# 43.Check Factors\n",
    "Write a function that returns True if all integers in a list are factors of a number, and False otherwise.\n",
    "\n",
    "Examples\n",
    "\n",
    "check_factors([2, 3, 4], 12) ➞ True\n",
    "\n",
    "#Since 2, 3, and 4 are all factors of 12.\n",
    "\n",
    "check_factors([1, 2, 3, 8], 12) ➞ False\n",
    "\n",
    "#8 is not a factor of 12.\n",
    "\n",
    "check_factors([1, 2, 50], 100) ➞ True\n",
    "\n",
    "check_factors([3, 6], 9) ➞ False"
   ]
  },
  {
   "cell_type": "code",
   "execution_count": 13,
   "id": "410ef9b1",
   "metadata": {},
   "outputs": [
    {
     "name": "stdout",
     "output_type": "stream",
     "text": [
      "True\n"
     ]
    }
   ],
   "source": [
    "num  = [2, 3, 4]\n",
    "fact = 12\n",
    "\n",
    "are_fact = True\n",
    "for n in num:\n",
    "    if fact % n != 0:\n",
    "        are_fact = False\n",
    "        break\n",
    "\n",
    "print(are_fact)\n"
   ]
  },
  {
   "cell_type": "code",
   "execution_count": 58,
   "id": "dbddb77d",
   "metadata": {},
   "outputs": [
    {
     "name": "stdout",
     "output_type": "stream",
     "text": [
      "True\n"
     ]
    }
   ],
   "source": [
    "num = [2, 3, 4]\n",
    "fact = 12\n",
    "\n",
    "are_fact = True\n",
    "i = 0\n",
    "\n",
    "while i < len(num):\n",
    "    if fact % num[i] != 0:\n",
    "        are_fact = False\n",
    "        break\n",
    "    i += 1\n",
    "\n",
    "print(are_fact)\n"
   ]
  },
  {
   "cell_type": "markdown",
   "id": "131603a5",
   "metadata": {},
   "source": [
    "# 44.Omnipresent Value\n",
    "A value is omnipresent if it exists in every sublist inside the main list.\n",
    "\n",
    "To illustrate:\n",
    "\n",
    "[[3, 4], [8, 3, 2], [3], [9, 3], [5, 3], [4, 3]]\n",
    "\n",
    "3 exists in every element inside this list, so is omnipresent.\n",
    "\n",
    "Create a function that determines whether an input value is omnipresent for a given list.\n",
    "\n",
    "Examples\n",
    "\n",
    "is_omnipresent([[1, 1], [1, 3], [5, 1], [6, 1]], 1) ➞ True\n",
    "\n",
    "is_omnipresent([[1, 1], [1, 3], [5, 1], [6, 1]], 6) ➞ False\n",
    "\n",
    "is_omnipresent([[5], [5], [5], [6, 5]], 5) ➞ True\n",
    "\n",
    "is_omnipresent([[5], [5], [5], [6, 5]], 6) ➞ False"
   ]
  },
  {
   "cell_type": "code",
   "execution_count": 14,
   "id": "0d66241e",
   "metadata": {},
   "outputs": [
    {
     "name": "stdout",
     "output_type": "stream",
     "text": [
      "True\n"
     ]
    }
   ],
   "source": [
    "main_list = [[1, 1], [1, 3], [5, 1], [6, 1]]\n",
    "input_value = 1\n",
    "\n",
    "is_omnipresent = True\n",
    "i = 0\n",
    "\n",
    "while i < len(main_list):\n",
    "    if input_value not in main_list[i]:\n",
    "        is_omnipresent = False\n",
    "        break\n",
    "    i += 1\n",
    "\n",
    "print(is_omnipresent)  \n"
   ]
  },
  {
   "cell_type": "code",
   "execution_count": 59,
   "id": "e0e2419a",
   "metadata": {},
   "outputs": [
    {
     "name": "stdout",
     "output_type": "stream",
     "text": [
      "True\n"
     ]
    }
   ],
   "source": [
    "main_list = [[1, 1], [1, 3], [5, 1], [6, 1]]\n",
    "input_value = 1\n",
    "\n",
    "is_omnipresent = True\n",
    "\n",
    "for sublist in main_list:\n",
    "    if input_value not in sublist:\n",
    "        is_omnipresent = False\n",
    "        break\n",
    "\n",
    "print(is_omnipresent)\n"
   ]
  },
  {
   "cell_type": "markdown",
   "id": "51128b14",
   "metadata": {},
   "source": [
    "# 45.Find the Average of the Letters\n",
    "Create a function that returns the average of a list composed of letters. First, find the number of the letter in the alphabet in order to find the average of the list.\n",
    "\n",
    "A = 1\n",
    "\n",
    "B = 2\n",
    "\n",
    "C = 3\n",
    "\n",
    "D = 4\n",
    "\n",
    "E = 5\n",
    "\n",
    "average = total sum of all numbers / number of item in the set\n",
    "\n",
    "Return the result rounded to two decimal points.\n",
    "\n",
    "Examples\n",
    "\n",
    "average_index([\"a\", \"b\", \"c\", \"i\"]) ➞ 3.75\n",
    "\n",
    "average_index([\"e\", \"d\", \"a\", \"b\", \"i\", \"t\"]) ➞ 6.83\n",
    "\n",
    "average_index([\"y\", \"o\", \"u\", \"a\", \"r\", \"e\", \"t\", \"h\", \"e\", \"b\", \"e\", \"s\", \"t\"]) ➞"
   ]
  },
  {
   "cell_type": "code",
   "execution_count": 15,
   "id": "623bd450",
   "metadata": {},
   "outputs": [
    {
     "name": "stdout",
     "output_type": "stream",
     "text": [
      "3.75\n"
     ]
    }
   ],
   "source": [
    "letter_list = [\"a\", \"b\", \"c\", \"i\"]\n",
    "\n",
    "total_sum = 0\n",
    "count = 0\n",
    "i = 0\n",
    "\n",
    "while i < len(letter_list):\n",
    "    letter_number = ord(letter_list[i].lower()) - ord('a') + 1\n",
    "    total_sum += letter_number\n",
    "    count += 1\n",
    "    i += 1\n",
    "\n",
    "average = total_sum / count\n",
    "rounded_average = round(average, 2)\n",
    "\n",
    "print(rounded_average)  \n"
   ]
  },
  {
   "cell_type": "markdown",
   "id": "9b64f927",
   "metadata": {},
   "source": [
    "# 46.Burglary Series (01): Calculate Total Losses\n",
    "You just returned home to find your mansion has been robbed! Given a dictionary of the stolen items, return the total amount of the burglary (number). If nothing was robbed, return the string \"Lucky you!\".\n",
    "\n",
    "Examples\n",
    "\n",
    "calculate_losses({\n",
    "  \"tv\" : 30,\n",
    "  \"skate\" : 20,\n",
    "  \"stereo\" : 50,\n",
    "}) ➞ 100\n",
    "\n",
    "calculate_losses({\n",
    "  \"painting\" : 20000,\n",
    "}) ➞ 20000\n",
    "\n",
    "calculate_losses({}) ➞ \"Lucky you!\""
   ]
  },
  {
   "cell_type": "code",
   "execution_count": 23,
   "id": "d53abdd6",
   "metadata": {},
   "outputs": [
    {
     "name": "stdout",
     "output_type": "stream",
     "text": [
      "100\n"
     ]
    }
   ],
   "source": [
    "stolen_items={ \"tv\" : 30, \"skate\" : 20, \"stereo\" : 50, }\n",
    "total=0\n",
    "keys=list(stolen_items.keys())\n",
    "i=0\n",
    "while i<len(key):\n",
    "    total += stolen_items[keys[i]]\n",
    "    i+= 1\n",
    "\n",
    "if total == 0:\n",
    "    print(\"Lucky you!\")\n",
    "else:\n",
    "    print(total) \n"
   ]
  },
  {
   "cell_type": "code",
   "execution_count": 60,
   "id": "f2aa941a",
   "metadata": {},
   "outputs": [
    {
     "name": "stdout",
     "output_type": "stream",
     "text": [
      "100\n"
     ]
    }
   ],
   "source": [
    "stolen_items = { \"tv\": 30, \"skate\": 20, \"stereo\": 50 }\n",
    "total = 0\n",
    "for key in stolen_items:\n",
    "    total += stolen_items[key]\n",
    "\n",
    "if total == 0:\n",
    "    print(\"Lucky you!\")\n",
    "else:\n",
    "    print(total)\n"
   ]
  },
  {
   "cell_type": "markdown",
   "id": "2c3ad9dd",
   "metadata": {},
   "source": [
    "# 47.Factorize a Number\n",
    "Create a function that takes a number as its argument and returns a list of all its factors.\n",
    "\n",
    "Examples\n",
    "\n",
    "factorize(12) ➞ [1, 2, 3, 4, 6, 12]\n",
    "\n",
    "factorize(4) ➞ [1, 2, 4]\n",
    "\n",
    "factorize(17) ➞ [1, 17]"
   ]
  },
  {
   "cell_type": "code",
   "execution_count": 54,
   "id": "37bbc536",
   "metadata": {},
   "outputs": [
    {
     "name": "stdout",
     "output_type": "stream",
     "text": [
      "Enter a number: 12\n",
      "[1, 2, 3, 4, 6, 12]\n"
     ]
    }
   ],
   "source": [
    "n = int(input(\"Enter a number: \"))\n",
    "fact = []\n",
    "i = 1\n",
    "while i <= n:\n",
    "    if n % i == 0:\n",
    "        fact.append(i)\n",
    "    i += 1\n",
    "print(fact)\n"
   ]
  },
  {
   "cell_type": "code",
   "execution_count": 61,
   "id": "48ed0987",
   "metadata": {},
   "outputs": [
    {
     "name": "stdout",
     "output_type": "stream",
     "text": [
      "Enter a number: 12\n",
      "[1, 2, 3, 4, 6, 12]\n"
     ]
    }
   ],
   "source": [
    "n = int(input(\"Enter a number: \"))\n",
    "fact = []\n",
    "\n",
    "for i in range(1, n + 1):\n",
    "    if n % i == 0:\n",
    "        fact.append(i)\n",
    "\n",
    "print(fact)\n"
   ]
  },
  {
   "cell_type": "markdown",
   "id": "4552a0bc",
   "metadata": {},
   "source": [
    "# 48.Index Shuffle\n",
    "Write a function that takes all even-indexed characters and odd-indexed characters from a string and concatenates them together.\n",
    "\n",
    "To illustrate:\n",
    "\n",
    "index_shuffle(\"abcd\") ➞ \"acbd\"\n",
    "// \"ac\" (even-indexed) + \"bd\" (odd-indexed)\n",
    "Examples\n",
    "index_shuffle(\"abcdefg\") ➞ \"acegbdf\"\n",
    "\n",
    "index_shuffle(\"holiday\") ➞ \"hldyoia\"\n",
    "\n",
    "index_shuffle(\"maybe\") ➞ \"myeab\""
   ]
  },
  {
   "cell_type": "code",
   "execution_count": 55,
   "id": "82e4e9cf",
   "metadata": {},
   "outputs": [
    {
     "name": "stdout",
     "output_type": "stream",
     "text": [
      "Enter a string: acbd\n",
      "abcd\n"
     ]
    }
   ],
   "source": [
    "input_string = input(\"Enter a string: \")\n",
    "even_chars = \"\"\n",
    "odd_chars = \"\"\n",
    "\n",
    "for i in range(len(input_string)):\n",
    "    if i % 2 == 0:\n",
    "        even_chars += input_string[i]\n",
    "    else:\n",
    "        odd_chars += input_string[i]\n",
    "\n",
    "result = even_chars + odd_chars\n",
    "print(result)\n"
   ]
  },
  {
   "cell_type": "code",
   "execution_count": 62,
   "id": "5a7b8f22",
   "metadata": {},
   "outputs": [
    {
     "name": "stdout",
     "output_type": "stream",
     "text": [
      "Enter a string: acbd\n",
      "abcd\n"
     ]
    }
   ],
   "source": [
    "input_string = input(\"Enter a string: \")\n",
    "even_chars = \"\"\n",
    "odd_chars = \"\"\n",
    "i = 0\n",
    "\n",
    "while i < len(input_string):\n",
    "    if i % 2 == 0:\n",
    "        even_chars += input_string[i]\n",
    "    else:\n",
    "        odd_chars += input_string[i]\n",
    "    i += 1\n",
    "\n",
    "result = even_chars + odd_chars\n",
    "print(result)\n"
   ]
  },
  {
   "cell_type": "markdown",
   "id": "9a2ea8bd",
   "metadata": {},
   "source": [
    "# 49.Multiply by Length\n",
    "Create a function to multiply all of the values in a list by the amount of values in the given list.\n",
    "\n",
    "Examples\n",
    "\n",
    "multiply_by_length([2, 3, 1, 0]) ➞ [8, 12, 4, 0]\n",
    "\n",
    "multiply_by_length([4, 1, 1]) ➞ ([12, 3, 3])\n",
    "\n",
    "multiply_by_length([1, 0, 3, 3, 7, 2, 1]) ➞  [7, 0, 21, 21, 49, 14, 7]\n",
    "\n",
    "multiply_by_length([0]) ➞ ([0])"
   ]
  },
  {
   "cell_type": "code",
   "execution_count": 56,
   "id": "706bad84",
   "metadata": {},
   "outputs": [
    {
     "name": "stdout",
     "output_type": "stream",
     "text": [
      "[8, 12, 4, 0]\n"
     ]
    }
   ],
   "source": [
    "List = [2, 3, 1, 0]\n",
    "length = len(List)\n",
    "\n",
    "for i in range(len(List)):\n",
    "    List[i] *= length\n",
    "\n",
    "print(List) \n"
   ]
  },
  {
   "cell_type": "code",
   "execution_count": 63,
   "id": "3e8a9b70",
   "metadata": {},
   "outputs": [
    {
     "name": "stdout",
     "output_type": "stream",
     "text": [
      "[8, 12, 4, 0]\n"
     ]
    }
   ],
   "source": [
    "List = [2, 3, 1, 0]\n",
    "length = len(List)\n",
    "i = 0\n",
    "\n",
    "while i < len(List):\n",
    "    List[i] *= length\n",
    "    i += 1\n",
    "\n",
    "print(List)\n"
   ]
  },
  {
   "cell_type": "markdown",
   "id": "9383ebda",
   "metadata": {},
   "source": [
    "# 50.Filter Repeating Character Strings\n",
    "Create a function that keeps only strings with repeating identical characters (in other words, it has a set size of 1).\n",
    "\n",
    "Examples\n",
    "\n",
    "identical_filter([\"aaaaaa\", \"bc\", \"d\", \"eeee\", \"xyz\"])\n",
    "➞ [\"aaaaaa\", \"d\", \"eeee\"]\n",
    "\n",
    "identical_filter([\"88\", \"999\", \"22\", \"545\", \"133\"])\n",
    "➞ [\"88\", \"999\", \"22\"]\n",
    "\n",
    "identical_filter([\"xxxxo\", \"oxo\", \"xox\", \"ooxxoo\", \"oxo\"])"
   ]
  },
  {
   "cell_type": "code",
   "execution_count": 57,
   "id": "2faedce0",
   "metadata": {},
   "outputs": [
    {
     "name": "stdout",
     "output_type": "stream",
     "text": [
      "['aaaaaa', 'd', 'eeee']\n"
     ]
    }
   ],
   "source": [
    "input_list = [\"aaaaaa\", \"bc\", \"d\", \"eeee\", \"xyz\"]\n",
    "result = []\n",
    "\n",
    "for item in input_list:\n",
    "    if len(set(item)) == 1:\n",
    "        result.append(item)\n",
    "\n",
    "print(result)\n"
   ]
  },
  {
   "cell_type": "code",
   "execution_count": 64,
   "id": "0068f63d",
   "metadata": {},
   "outputs": [
    {
     "name": "stdout",
     "output_type": "stream",
     "text": [
      "['aaaaaa', 'd', 'eeee']\n"
     ]
    }
   ],
   "source": [
    "input_list = [\"aaaaaa\", \"bc\", \"d\", \"eeee\", \"xyz\"]\n",
    "result = []\n",
    "i = 0\n",
    "\n",
    "while i < len(input_list):\n",
    "    if len(set(input_list[i])) == 1:\n",
    "        result.append(input_list[i])\n",
    "    i += 1\n",
    "\n",
    "print(result)\n"
   ]
  },
  {
   "cell_type": "markdown",
   "id": "c31a32b4",
   "metadata": {},
   "source": [
    "# 51.How Many Digits?\n",
    "Given an integer n. Your task is to find how many digits this integer contains without using str or len methods!\n",
    "\n",
    "Examples\n",
    "\n",
    "sum_digits(100) ➞ 3\n",
    "\n",
    "sum_digits(1000) ➞ 4\n",
    "\n",
    "sum_digits(1) ➞ 1"
   ]
  },
  {
   "cell_type": "code",
   "execution_count": 60,
   "id": "0c768651",
   "metadata": {},
   "outputs": [
    {
     "name": "stdout",
     "output_type": "stream",
     "text": [
      "Enter an integer: 100\n",
      "3\n"
     ]
    }
   ],
   "source": [
    "n = int(input(\"Enter an integer: \"))\n",
    "result = 0\n",
    "if n == 0:\n",
    "    result = 1\n",
    "else:\n",
    "    while n != 0:\n",
    "        n //= 10\n",
    "        result += 1\n",
    "print(result)\n"
   ]
  },
  {
   "cell_type": "code",
   "execution_count": 65,
   "id": "1631910e",
   "metadata": {},
   "outputs": [
    {
     "name": "stdout",
     "output_type": "stream",
     "text": [
      "Enter an integer: 100\n",
      "3\n"
     ]
    }
   ],
   "source": [
    "n = int(input(\"Enter an integer: \"))\n",
    "result = 0\n",
    "\n",
    "if n == 0:\n",
    "    result = 1\n",
    "else:\n",
    "    for _ in str(n):\n",
    "        n //= 10\n",
    "        result += 1\n",
    "\n",
    "print(result)\n"
   ]
  },
  {
   "cell_type": "markdown",
   "id": "fdc68e9a",
   "metadata": {},
   "source": [
    "# 52.Repeat the Same Item Multiple Times\n",
    "Create a function that takes two arguments (item, times). The first argument (item) is the item that needs repeating while the second argument (times) is the number of times the item is to be repeated. Return the result in a list.\n",
    "\n",
    "Examples\n",
    "\n",
    "repeat(\"edabit\", 3) ➞ [\"edabit\", \"edabit\", \"edabit\"]\n",
    "\n",
    "repeat(13, 5) ➞ [13, 13, 13, 13, 13]\n",
    "\n",
    "repeat(\"7\", 2) ➞ [\"7\", \"7\"]\n",
    "\n",
    "repeat(0, 0) ➞ []"
   ]
  },
  {
   "cell_type": "code",
   "execution_count": 61,
   "id": "9ce0dd44",
   "metadata": {},
   "outputs": [
    {
     "name": "stdout",
     "output_type": "stream",
     "text": [
      "Enter an item: edabit\n",
      "Enter the number of times: 3\n",
      "['edabit', 'edabit', 'edabit']\n"
     ]
    }
   ],
   "source": [
    "item = input(\"Enter an item: \")\n",
    "times = int(input(\"Enter the number of times: \"))\n",
    "result = []\n",
    "for _ in range(times):\n",
    "    result.append(item)\n",
    "\n",
    "print(result)\n"
   ]
  },
  {
   "cell_type": "code",
   "execution_count": 66,
   "id": "699d84a5",
   "metadata": {},
   "outputs": [
    {
     "name": "stdout",
     "output_type": "stream",
     "text": [
      "Enter an item: edabit\n",
      "Enter the number of times: 3\n",
      "['edabit', 'edabit', 'edabit']\n"
     ]
    }
   ],
   "source": [
    "item = input(\"Enter an item: \")\n",
    "times = int(input(\"Enter the number of times: \"))\n",
    "result = []\n",
    "count = 0\n",
    "\n",
    "while count < times:\n",
    "    result.append(item)\n",
    "    count += 1\n",
    "\n",
    "print(result)\n"
   ]
  },
  {
   "cell_type": "markdown",
   "id": "5cfd8a70",
   "metadata": {},
   "source": [
    "# 53.Pyramid Lists\n",
    "Given a number n, return a list containing several lists. Each list increments in size, from range 1 to n inclusive, contaning its length as the elements.\n",
    "\n",
    "Examples\n",
    "\n",
    "pyramid_lists(1) ➞ [[1]]\n",
    "\n",
    "pyramid_lists(3) ➞ [[1], [2, 2], [3, 3, 3]]\n",
    "\n",
    "pyramid_lists(5) ➞ [[1], [2, 2], [3, 3, 3], [4, 4, 4, 4], [5, 5, 5, 5, 5]]\n"
   ]
  },
  {
   "cell_type": "code",
   "execution_count": 63,
   "id": "8e508c5e",
   "metadata": {},
   "outputs": [
    {
     "name": "stdout",
     "output_type": "stream",
     "text": [
      "Enter a number: 2\n",
      "[[1], [2, 2]]\n"
     ]
    }
   ],
   "source": [
    "n = int(input(\"Enter a number: \"))\n",
    "pyramid = []\n",
    "for i in range(1, n + 1):\n",
    "    inner_list = [i] * i\n",
    "    pyramid.append(inner_list)\n",
    "print(pyramid)"
   ]
  },
  {
   "cell_type": "code",
   "execution_count": 67,
   "id": "c353fb06",
   "metadata": {},
   "outputs": [
    {
     "name": "stdout",
     "output_type": "stream",
     "text": [
      "Enter a number: 2\n",
      "[[1], [2, 2]]\n"
     ]
    }
   ],
   "source": [
    "n = int(input(\"Enter a number: \"))\n",
    "pyramid = []\n",
    "i = 1\n",
    "while i <= n:\n",
    "    inner_list = [i] * i\n",
    "    pyramid.append(inner_list)\n",
    "    i += 1\n",
    "print(pyramid)\n"
   ]
  }
 ],
 "metadata": {
  "kernelspec": {
   "display_name": "Python 3 (ipykernel)",
   "language": "python",
   "name": "python3"
  },
  "language_info": {
   "codemirror_mode": {
    "name": "ipython",
    "version": 3
   },
   "file_extension": ".py",
   "mimetype": "text/x-python",
   "name": "python",
   "nbconvert_exporter": "python",
   "pygments_lexer": "ipython3",
   "version": "3.11.3"
  }
 },
 "nbformat": 4,
 "nbformat_minor": 5
}
