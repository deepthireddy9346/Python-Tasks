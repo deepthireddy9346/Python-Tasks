{
 "cells": [
  {
   "cell_type": "markdown",
   "id": "d77e1dea",
   "metadata": {},
   "source": [
    "# Calculator"
   ]
  },
  {
   "cell_type": "code",
   "execution_count": 6,
   "id": "81ab13f9",
   "metadata": {},
   "outputs": [],
   "source": [
    "import time\n",
    "from time import time"
   ]
  },
  {
   "cell_type": "code",
   "execution_count": 7,
   "id": "95ace076",
   "metadata": {},
   "outputs": [
    {
     "name": "stdout",
     "output_type": "stream",
     "text": [
      "Enter the number a : 2\n",
      "Enter the number b : 6\n",
      "operators 1/2/3/4 :1\n",
      "Sum: 8\n",
      "1.210754632949829\n"
     ]
    }
   ],
   "source": [
    "#1\n",
    "a,b=int(input('Enter the number a : ')),int(input('Enter the number b : '))\n",
    "start = time()\n",
    "operators=(\"1. add\",\"2. sub\",\"3.mul\",\"4.div\")\n",
    "choice=int(input('operators 1/2/3/4 :'))\n",
    "if choice ==1:\n",
    "    sum =a+b\n",
    "    print('Sum:',sum)\n",
    "elif choice ==2:\n",
    "    sum =a-b\n",
    "    print('Sum:',sum)\n",
    "elif choice ==3:\n",
    "    sum =a*b\n",
    "    print('Sum:',sum)\n",
    "elif choice ==4:\n",
    "    if b!=0:\n",
    "        sum =a/b\n",
    "        print('Sum:',sum)    \n",
    "    else:\n",
    "        print('cant divide by zero')\n",
    "else:\n",
    "    print('invalid choice')\n",
    "end = time()\n",
    "print(end - start)\n"
   ]
  },
  {
   "cell_type": "code",
   "execution_count": 8,
   "id": "f357cf8f",
   "metadata": {},
   "outputs": [
    {
     "name": "stdout",
     "output_type": "stream",
     "text": [
      "Enter the number a : 2\n",
      "Enter the number b : 8\n",
      "enter the operator : +\n",
      "2 + 8\n",
      "10\n",
      "7.697704553604126\n"
     ]
    }
   ],
   "source": [
    "#2 \n",
    "start = time()\n",
    "a,b=int(input('Enter the number a : ')),int(input('Enter the number b : '))\n",
    "operator=input('enter the operator : ')\n",
    "#start = time()\n",
    "if operator == '+':\n",
    "    print(f'{a} + {b}')\n",
    "    print(a + b)\n",
    "elif operator == '-':\n",
    "    print(f'{a} - {b}')\n",
    "    print(a - b)\n",
    "\n",
    "elif operator == '*':\n",
    "    print(f'{a} * {b}')\n",
    "    print(a * b)\n",
    "\n",
    "elif operator == '/':\n",
    "    print(f'{a} / {b}' )\n",
    "    print(a / b)\n",
    "\n",
    "else:\n",
    "    print('invalid ')\n",
    "end = time()\n",
    "print(end - start)\n",
    "\n"
   ]
  },
  {
   "cell_type": "code",
   "execution_count": 10,
   "id": "d92b9680",
   "metadata": {},
   "outputs": [
    {
     "name": "stdout",
     "output_type": "stream",
     "text": [
      "Enter the number a : 2\n",
      "Enter the number b : 6\n",
      "operators 1/2/3/4 :1\n",
      "Sum: 8\n",
      "2.0073776245117188\n"
     ]
    }
   ],
   "source": [
    "#3\n",
    "a,b=int(input('Enter the number a : ')),int(input('Enter the number b : '))\n",
    "start = time()    \n",
    "def add(a, b):\n",
    "    return a + b\n",
    "\n",
    "def sub(a, b):\n",
    "    return a - b\n",
    "\n",
    "def mul(a, b):\n",
    "    return a * b\n",
    "\n",
    "def div(a, b):\n",
    "    if b != 0:\n",
    "        return a / b\n",
    "    else:\n",
    "        return \"Cant divide by zero\"\n",
    "operators = {\n",
    "    1: add,\n",
    "    2: sub,\n",
    "    3: mul,\n",
    "    4: div\n",
    "}\n",
    "choice=int(input('operators 1/2/3/4 :'))    \n",
    "    \n",
    "if choice in operators:\n",
    "    sum = operators[choice](a, b)\n",
    "else:\n",
    "    sum = \"Invalid choice.\"\n",
    "\n",
    "print(\"Sum:\", sum)\n",
    "end = time()\n",
    "print(end - start)"
   ]
  },
  {
   "cell_type": "code",
   "execution_count": null,
   "id": "3bf64187",
   "metadata": {},
   "outputs": [],
   "source": []
  }
 ],
 "metadata": {
  "kernelspec": {
   "display_name": "Python 3 (ipykernel)",
   "language": "python",
   "name": "python3"
  },
  "language_info": {
   "codemirror_mode": {
    "name": "ipython",
    "version": 3
   },
   "file_extension": ".py",
   "mimetype": "text/x-python",
   "name": "python",
   "nbconvert_exporter": "python",
   "pygments_lexer": "ipython3",
   "version": "3.11.3"
  }
 },
 "nbformat": 4,
 "nbformat_minor": 5
}
